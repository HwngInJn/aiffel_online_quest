{
 "cells": [
  {
   "cell_type": "markdown",
   "id": "3aa03f91",
   "metadata": {},
   "source": [
    "# Chatbot with transformer\n",
    "\n",
    "## Rubric\n",
    "\n",
    "### 1. 챗봇 훈련데이터 전처리 과정이 체계적으로 진행되었는가?\n",
    "\n",
    "챗봇 훈련데이터를 위한 전처리와 augmentation이 적절히 수행되어 3만개 가량의 훈련데이터셋이 구축되었다.\n",
    "\n",
    "### 2. transformer 모델을 활용한 챗봇 모델이 과적합을 피해 안정적으로 훈련되었는가?\t\n",
    "\n",
    "과적합을 피할 수 있는 하이퍼파라미터 셋이 적절히 제시되었다.\n",
    "\n",
    "### 3. 챗봇이 사용자의 질문에 그럴듯한 형태로 답하는 사례가 있는가?\t\n",
    "\n",
    "주어진 예문을 포함하여 챗봇에 던진 질문에 적절히 답하는 사례가 제출되었다."
   ]
  },
  {
   "cell_type": "code",
   "execution_count": 1,
   "id": "fa1c3ad9",
   "metadata": {
    "scrolled": true
   },
   "outputs": [
    {
     "name": "stdout",
     "output_type": "stream",
     "text": [
      "Requirement already satisfied: gensim==3.8.1 in /opt/conda/lib/python3.9/site-packages (3.8.1)\n",
      "Requirement already satisfied: scipy>=0.18.1 in /opt/conda/lib/python3.9/site-packages (from gensim==3.8.1) (1.7.1)\n",
      "Requirement already satisfied: smart-open>=1.8.1 in /opt/conda/lib/python3.9/site-packages (from gensim==3.8.1) (5.2.1)\n",
      "Requirement already satisfied: numpy>=1.11.3 in /opt/conda/lib/python3.9/site-packages (from gensim==3.8.1) (1.21.4)\n",
      "Requirement already satisfied: six>=1.5.0 in /opt/conda/lib/python3.9/site-packages (from gensim==3.8.1) (1.16.0)\n",
      "\u001b[33mWARNING: Running pip as the 'root' user can result in broken permissions and conflicting behaviour with the system package manager. It is recommended to use a virtual environment instead: https://pip.pypa.io/warnings/venv\u001b[0m\n"
     ]
    }
   ],
   "source": [
    "!pip install gensim==3.8.1 # wv을 쓰기위해서 gensim 버전 다운그레이드"
   ]
  },
  {
   "cell_type": "code",
   "execution_count": 2,
   "id": "3f9d892a",
   "metadata": {},
   "outputs": [],
   "source": [
    "import numpy as np\n",
    "import tensorflow as tf\n",
    "import matplotlib.pyplot as plt\n",
    "import pandas as pd\n",
    "from sklearn.model_selection import train_test_split\n",
    "\n",
    "import re\n",
    "import os\n",
    "import io\n",
    "import time\n",
    "import random\n",
    "\n",
    "from konlpy.tag import Mecab\n",
    "import tensorflow as tf\n",
    "\n",
    "import seaborn"
   ]
  },
  {
   "cell_type": "code",
   "execution_count": 3,
   "id": "de9ac843",
   "metadata": {},
   "outputs": [
    {
     "data": {
      "text/html": [
       "<div>\n",
       "<style scoped>\n",
       "    .dataframe tbody tr th:only-of-type {\n",
       "        vertical-align: middle;\n",
       "    }\n",
       "\n",
       "    .dataframe tbody tr th {\n",
       "        vertical-align: top;\n",
       "    }\n",
       "\n",
       "    .dataframe thead th {\n",
       "        text-align: right;\n",
       "    }\n",
       "</style>\n",
       "<table border=\"1\" class=\"dataframe\">\n",
       "  <thead>\n",
       "    <tr style=\"text-align: right;\">\n",
       "      <th></th>\n",
       "      <th>Q</th>\n",
       "      <th>A</th>\n",
       "      <th>label</th>\n",
       "    </tr>\n",
       "  </thead>\n",
       "  <tbody>\n",
       "    <tr>\n",
       "      <th>0</th>\n",
       "      <td>12시 땡!</td>\n",
       "      <td>하루가 또 가네요.</td>\n",
       "      <td>0</td>\n",
       "    </tr>\n",
       "    <tr>\n",
       "      <th>1</th>\n",
       "      <td>1지망 학교 떨어졌어</td>\n",
       "      <td>위로해 드립니다.</td>\n",
       "      <td>0</td>\n",
       "    </tr>\n",
       "    <tr>\n",
       "      <th>2</th>\n",
       "      <td>3박4일 놀러가고 싶다</td>\n",
       "      <td>여행은 언제나 좋죠.</td>\n",
       "      <td>0</td>\n",
       "    </tr>\n",
       "    <tr>\n",
       "      <th>3</th>\n",
       "      <td>3박4일 정도 놀러가고 싶다</td>\n",
       "      <td>여행은 언제나 좋죠.</td>\n",
       "      <td>0</td>\n",
       "    </tr>\n",
       "    <tr>\n",
       "      <th>4</th>\n",
       "      <td>PPL 심하네</td>\n",
       "      <td>눈살이 찌푸려지죠.</td>\n",
       "      <td>0</td>\n",
       "    </tr>\n",
       "  </tbody>\n",
       "</table>\n",
       "</div>"
      ],
      "text/plain": [
       "                 Q            A  label\n",
       "0           12시 땡!   하루가 또 가네요.      0\n",
       "1      1지망 학교 떨어졌어    위로해 드립니다.      0\n",
       "2     3박4일 놀러가고 싶다  여행은 언제나 좋죠.      0\n",
       "3  3박4일 정도 놀러가고 싶다  여행은 언제나 좋죠.      0\n",
       "4          PPL 심하네   눈살이 찌푸려지죠.      0"
      ]
     },
     "execution_count": 3,
     "metadata": {},
     "output_type": "execute_result"
    }
   ],
   "source": [
    "data = pd.read_csv('/aiffel/aiffel/transformer_chatbot/data/ChatbotData.csv')\n",
    "data.head()"
   ]
  },
  {
   "cell_type": "code",
   "execution_count": 4,
   "id": "01bf5d03",
   "metadata": {},
   "outputs": [
    {
     "data": {
      "text/plain": [
       "11823"
      ]
     },
     "execution_count": 4,
     "metadata": {},
     "output_type": "execute_result"
    }
   ],
   "source": [
    "len(data) # 3배 증강 필요"
   ]
  },
  {
   "cell_type": "code",
   "execution_count": 5,
   "id": "2114bd5f",
   "metadata": {},
   "outputs": [],
   "source": [
    "def preprocess_sentence(sentence):\n",
    "    \n",
    "    sentence = sentence.lower().strip()\n",
    "    sentence = re.sub(r'[\" \"]+', \" \", sentence)\n",
    "    sentence = re.sub(r\"[^a-zA-Z?.!가-힣ㄱ-ㅎㅏ-ㅣ0-9]+\", \" \", sentence)\n",
    "    sentence = sentence.strip()\n",
    "    \n",
    "    return sentence"
   ]
  },
  {
   "cell_type": "code",
   "execution_count": 6,
   "id": "a23f785c",
   "metadata": {},
   "outputs": [
    {
     "name": "stdout",
     "output_type": "stream",
     "text": [
      "questions data size : 11823\n",
      "answers data size : 11823\n",
      "\n",
      "Q : 12시 땡!\n",
      "A : 하루가 또 가네요.\n",
      "\n",
      "Q : 1지망 학교 떨어졌어\n",
      "A : 위로해 드립니다.\n",
      "\n",
      "Q : 3박4일 놀러가고 싶다\n",
      "A : 여행은 언제나 좋죠.\n",
      "\n",
      "Q : 3박4일 정도 놀러가고 싶다\n",
      "A : 여행은 언제나 좋죠.\n",
      "\n",
      "Q : ppl 심하네\n",
      "A : 눈살이 찌푸려지죠.\n",
      "\n",
      "Q : sd카드 망가졌어\n",
      "A : 다시 새로 사는 게 마음 편해요.\n",
      "\n",
      "Q : sd카드 안돼\n",
      "A : 다시 새로 사는 게 마음 편해요.\n",
      "\n",
      "Q : sns 맞팔 왜 안하지ㅠㅠ\n",
      "A : 잘 모르고 있을 수도 있어요.\n",
      "\n",
      "Q : sns 시간낭비인 거 아는데 매일 하는 중\n",
      "A : 시간을 정하고 해보세요.\n",
      "\n",
      "Q : sns 시간낭비인데 자꾸 보게됨\n",
      "A : 시간을 정하고 해보세요.\n",
      "\n"
     ]
    }
   ],
   "source": [
    "questions = [preprocess_sentence(q) for q in data['Q']]\n",
    "answers = [preprocess_sentence(a) for a in data['A']]\n",
    "\n",
    "    \n",
    "print('questions data size :', len(questions))\n",
    "print('answers data size :', len(answers))\n",
    "print()\n",
    "for i in range(10):\n",
    "    print('Q :', questions[i])\n",
    "    print('A :', answers[i])    \n",
    "    print()"
   ]
  },
  {
   "cell_type": "code",
   "execution_count": 7,
   "id": "4f062cfd",
   "metadata": {},
   "outputs": [],
   "source": [
    "def tokenize(corpus, vocab_size=50000):\n",
    "    mecab = Mecab()\n",
    "    morph = [\" \".join(mecab.morphs(sen)) for sen in corpus]\n",
    "    tokenizer = tf.keras.preprocessing.text.Tokenizer(filters='', num_words=vocab_size)\n",
    "    tokenizer.fit_on_texts(morph)\n",
    "\n",
    "    tensor = tokenizer.texts_to_sequences(morph)\n",
    "    tensor = tf.keras.preprocessing.sequence.pad_sequences(tensor, padding='post')\n",
    "\n",
    "    return tensor, tokenizer, morph\n"
   ]
  },
  {
   "cell_type": "code",
   "execution_count": 8,
   "id": "301508e8",
   "metadata": {},
   "outputs": [],
   "source": [
    "def tokenize_answer(corpus, vocab_size=50000):\n",
    "    mecab = Mecab()\n",
    "\n",
    "    # 형태소 분석\n",
    "    morph = [\" \".join(mecab.morphs(sen)) for sen in corpus]\n",
    "\n",
    "    tokenizer = tf.keras.preprocessing.text.Tokenizer(filters='', num_words=vocab_size)\n",
    "    tokenizer.fit_on_texts(morph)\n",
    "\n",
    "    # 토큰화 사전에 <start>와 <end> 토큰 추가\n",
    "    tokenizer.word_index['<start>'] = len(tokenizer.word_index) + 1\n",
    "    tokenizer.word_index['<end>'] = len(tokenizer.word_index) + 2\n",
    "\n",
    "    # `index_word` dictionary에 <start>와 <end> 토큰 추가\n",
    "    tokenizer.index_word[tokenizer.word_index['<start>']] = '<start>'\n",
    "    tokenizer.index_word[tokenizer.word_index['<end>']] = '<end>'\n",
    "\n",
    "    # <start>와 <end> 토큰을 추가하여 토큰화\n",
    "    tensor = tokenizer.texts_to_sequences([\"<start> \" + m + \" <end>\" for m in morph])\n",
    "    tensor = tf.keras.preprocessing.sequence.pad_sequences(tensor, padding='post')\n",
    "\n",
    "    return tensor, tokenizer, morph"
   ]
  },
  {
   "cell_type": "code",
   "execution_count": 9,
   "id": "5bbfb674",
   "metadata": {},
   "outputs": [],
   "source": [
    "from gensim.models.word2vec import Word2Vec\n",
    "\n",
    "# Word2Vec 모델을 불러옵니다.\n",
    "w2v_path = '/aiffel/data/ko.bin'  \n",
    "wv_model = Word2Vec.load(w2v_path)\n",
    "\n",
    "def lexical_sub(sentence, word2vec):\n",
    "    toks = sentence.split()\n",
    "    \n",
    "    # 랜덤한 토큰 선택\n",
    "    _from = random.choice(toks)\n",
    "    \n",
    "    try:\n",
    "        _to = word2vec.wv.most_similar(_from)[0][0]  # wv으로 유의어 변환\n",
    "        # 선택된 토큰을 유의어로 변경\n",
    "        toks[toks.index(_from)] = _to\n",
    "    except:  # 단어장에 없는 단어\n",
    "        pass\n",
    "\n",
    "    return ' '.join(toks)\n",
    "\n",
    "def lexical_sub_0_33(sentence, word2vec):\n",
    "    toks = sentence.split()\n",
    "    \n",
    "    for idx, _from in enumerate(toks):\n",
    "        if (idx + 1) % 3 == 0:  # 토큰의 3의 배수마다\n",
    "            try:\n",
    "                _to = word2vec.wv.most_similar(_from)[0][0] # wv으로 유의어 변환 \n",
    "                toks[idx] = _to\n",
    "            except:   # 단어장에 없는 단어\n",
    "                continue\n",
    "\n",
    "    return ' '.join(toks)\n",
    "\n",
    "def lexical_sub_first_token(sentence, word2vec):\n",
    "    toks = sentence.split()\n",
    "    \n",
    "    # 첫 번째 토큰 선택\n",
    "    _from = toks[0]\n",
    "    \n",
    "    try:\n",
    "        _to = word2vec.wv.most_similar(_from)[0][0]  # wv으로 유의어 변환\n",
    "        # 첫 번째 토큰을 유의어로 변경\n",
    "        toks[0] = _to\n",
    "    except:  # 단어장에 없는 단어 or 모델이 해당 토큰에 대한 유사어를 찾지 못할 경우\n",
    "        pass\n",
    "\n",
    "    return ' '.join(toks)\n"
   ]
  },
  {
   "cell_type": "code",
   "execution_count": 10,
   "id": "c6bcaaf1",
   "metadata": {},
   "outputs": [
    {
     "name": "stdout",
     "output_type": "stream",
     "text": [
      "Total questions data size after augmentation: 59115\n",
      "Total answers data size after augmentation: 59115\n"
     ]
    }
   ],
   "source": [
    "# questions와 answers에 대해 lexical_sub 함수로 증강\n",
    "questions_augmented = [lexical_sub(question, wv_model) for question in questions]\n",
    "answers_augmented = [lexical_sub(answer, wv_model) for answer in answers]\n",
    "\n",
    "# questions와 answers에 대해 lexical_sub 함수로 증강(한번더)\n",
    "questions_augmented2 = [lexical_sub(question, wv_model) for question in questions]\n",
    "answers_augmented2 = [lexical_sub(answer, wv_model) for answer in answers]\n",
    "\n",
    "# questions와 answers에 대해 lexical_sub_0_33 함수로 증강\n",
    "questions_augmented_0_33 = [lexical_sub_0_33(question, wv_model) for question in questions]\n",
    "answers_augmented_0_33 = [lexical_sub_0_33(answer, wv_model) for answer in answers]\n",
    "\n",
    "# questions와 answers에 대해 lexical_sub 함수로 증강\n",
    "questions_augmented_first = [lexical_sub_first_token(question, wv_model) for question in questions]\n",
    "answers_augmented_first = [lexical_sub_first_token(answer, wv_model) for answer in answers]\n",
    "\n",
    "# 원본 questions와 answers에 증강된 데이터 추가\n",
    "questions.extend(questions_augmented)\n",
    "questions.extend(questions_augmented2)\n",
    "questions.extend(questions_augmented_0_33)\n",
    "questions.extend(questions_augmented_first)\n",
    "\n",
    "answers.extend(answers_augmented)\n",
    "answers.extend(answers_augmented2)\n",
    "answers.extend(answers_augmented_0_33)\n",
    "answers.extend(answers_augmented_first)\n",
    "\n",
    "print('Total questions data size after augmentation:', len(questions))\n",
    "print('Total answers data size after augmentation:', len(answers))"
   ]
  },
  {
   "cell_type": "code",
   "execution_count": 11,
   "id": "2faf5975",
   "metadata": {},
   "outputs": [
    {
     "name": "stdout",
     "output_type": "stream",
     "text": [
      "aug Q : 12시 땡!\n",
      "aug A : 하루가 각기 가네요.\n",
      "\n",
      "aug Q : 1지망 학교의 떨어졌어\n",
      "aug A : 위로해 드립니다.\n",
      "\n",
      "aug Q : 3박4일 놀러가고 싶다\n",
      "aug A : 여행은 항상 좋죠.\n",
      "\n",
      "aug Q : 3박4일 정도 놀러가고 싶다\n",
      "aug A : 여행은 언제나 좋죠.\n",
      "\n",
      "aug Q : ppl 심하네\n",
      "aug A : 눈살이 찌푸려지죠.\n",
      "\n",
      "aug Q : sd카드 망가졌어\n",
      "aug A : 다시 새로이 사는 게 마음 편해요.\n",
      "\n",
      "aug Q : sd카드 안돼\n",
      "aug A : 다시 새로 사는 도록 마음 편해요.\n",
      "\n",
      "aug Q : sns 맞팔 왜 안하지ㅠㅠ\n",
      "aug A : 잘 모르고 있을 수도 있어요.\n",
      "\n",
      "aug Q : sns 시간낭비인 거 아는데 매일 하는 중\n",
      "aug A : 시간을 정하고 해보세요.\n",
      "\n",
      "aug Q : sns 시간낭비인데 자꾸 보게됨\n",
      "aug A : 시간을 정하고 해보세요.\n",
      "\n",
      "0.33aug Q : 12시 땡!\n",
      "0.33aug A : 하루가 또 가네요.\n",
      "\n",
      "0.33aug Q : 1지망 학교 떨어졌어\n",
      "0.33aug A : 위로해 드립니다.\n",
      "\n",
      "0.33aug Q : 3박4일 놀러가고 싶다\n",
      "0.33aug A : 여행은 언제나 좋죠.\n",
      "\n",
      "0.33aug Q : 3박4일 정도 놀러가고 싶다\n",
      "0.33aug A : 여행은 언제나 좋죠.\n",
      "\n",
      "0.33aug Q : ppl 심하네\n",
      "0.33aug A : 눈살이 찌푸려지죠.\n",
      "\n",
      "0.33aug Q : sd카드 망가졌어\n",
      "0.33aug A : 다시 새로 사는 게 마음 편해요.\n",
      "\n",
      "0.33aug Q : sd카드 안돼\n",
      "0.33aug A : 다시 새로 사는 게 마음 편해요.\n",
      "\n",
      "0.33aug Q : sns 맞팔 과연 안하지ㅠㅠ\n",
      "0.33aug A : 잘 모르고 있을 수도 있어요.\n",
      "\n",
      "0.33aug Q : sns 시간낭비인 것 아는데 매일 하는 중\n",
      "0.33aug A : 시간을 정하고 해보세요.\n",
      "\n",
      "0.33aug Q : sns 시간낭비인데 그럼 보게됨\n",
      "0.33aug A : 시간을 정하고 해보세요.\n",
      "\n"
     ]
    }
   ],
   "source": [
    "for i in range(10):\n",
    "    print('aug Q :', questions_augmented[i])\n",
    "    print('aug A :', answers_augmented[i])\n",
    "    print()\n",
    "    \n",
    "for i in range(10):\n",
    "    print('0.33aug Q :', questions_augmented_0_33[i])\n",
    "    print('0.33aug A :', answers_augmented_0_33[i])\n",
    "    print()\n",
    "    "
   ]
  },
  {
   "cell_type": "code",
   "execution_count": 12,
   "id": "27aafc90",
   "metadata": {},
   "outputs": [
    {
     "name": "stdout",
     "output_type": "stream",
     "text": [
      "Total unique questions data size: 27649\n",
      "Total unique answers data size: 27649\n"
     ]
    }
   ],
   "source": [
    "# questions와 answers를 튜플로 묶기\n",
    "combined = list(zip(questions, answers))\n",
    "\n",
    "# 중복 제거\n",
    "unique_combined = list(set(combined))\n",
    "\n",
    "# 다시 questions와 answers로 분리\n",
    "questions_unique, answers_unique = zip(*unique_combined)\n",
    "\n",
    "print('Total unique questions data size:', len(questions_unique))\n",
    "print('Total unique answers data size:', len(answers_unique)) #대략 3배 증강\n"
   ]
  },
  {
   "cell_type": "code",
   "execution_count": 13,
   "id": "1ce41a1b",
   "metadata": {},
   "outputs": [
    {
     "name": "stdout",
     "output_type": "stream",
     "text": [
      "First question tensor: [ 10   8   2   1  20  16  18  36   7 164 857  13   3   0   0   0   0   0\n",
      "   0   0   0   0   0   0   0   0   0   0   0   0   0   0]\n",
      "Decoded question: 좋 아 하 는 사람 있 는데 내 가 조금 소심 해 .\n",
      "\n",
      "First answer tensor: [4385  343  288 1238  395   27    9    6    8   12    1 4387    0    0\n",
      "    0    0    0    0    0    0    0    0    0    0    0    0    0    0\n",
      "    0    0    0    0    0    0    0    0    0    0    0    0    0]\n",
      "Decoded answer: <start> 달라지 긴 원한다면 때때 수 있 을 거 예요 . <end>\n"
     ]
    }
   ],
   "source": [
    "# 질문 토큰화\n",
    "questions_tensor, questions_tokenizer, _ = tokenize(questions_unique)\n",
    "\n",
    "# 답변 토큰화\n",
    "answers_tensor, answers_tokenizer, _ = tokenize_answer(answers_unique)\n",
    "\n",
    "# 첫 번째 질문 텐서 출력\n",
    "print(\"First question tensor:\", questions_tensor[0])\n",
    "\n",
    "# 첫 번째 질문 텐서를 원래 문장으로 복원\n",
    "decoded_question = \" \".join([questions_tokenizer.index_word[idx] for idx in questions_tensor[0] if idx != 0]) # 0은 padding 토큰\n",
    "print(\"Decoded question:\", decoded_question)\n",
    "\n",
    "# 첫 번째 답변 텐서 출력\n",
    "print(\"\\nFirst answer tensor:\", answers_tensor[0])\n",
    "\n",
    "# 첫 번째 답변 텐서를 원래 문장으로 복원\n",
    "decoded_answer = \" \".join([answers_tokenizer.index_word[idx] for idx in answers_tensor[0] if idx != 0]) # 0은 padding 토큰\n",
    "print(\"Decoded answer:\", decoded_answer)"
   ]
  },
  {
   "cell_type": "code",
   "execution_count": 15,
   "id": "20008c8e",
   "metadata": {},
   "outputs": [
    {
     "name": "stdout",
     "output_type": "stream",
     "text": [
      "enc_train size: 27372 enc_val size: 277\n",
      "dec_train size: 27372 dec_val size: 277\n"
     ]
    }
   ],
   "source": [
    "from sklearn.model_selection import train_test_split\n",
    "\n",
    "enc_train, enc_val, dec_train, dec_val = train_test_split(questions_tensor, answers_tensor, test_size=0.01)\n",
    "\n",
    "print(\"enc_train size:\", len(enc_train), \"enc_val size:\", len(enc_val))\n",
    "print(\"dec_train size:\", len(dec_train), \"dec_val size:\", len(dec_val))"
   ]
  },
  {
   "cell_type": "code",
   "execution_count": 16,
   "id": "57a228ae",
   "metadata": {},
   "outputs": [],
   "source": [
    "def positional_encoding(pos, d_model):\n",
    "    def cal_angle(position, i):\n",
    "        return position / np.power(10000, int(i) / d_model)\n",
    "\n",
    "    def get_posi_angle_vec(position):\n",
    "        return [cal_angle(position, i) for i in range(d_model)]\n",
    "\n",
    "    sinusoid_table = np.array([get_posi_angle_vec(pos_i) for pos_i in range(pos)])\n",
    "\n",
    "    sinusoid_table[:, 0::2] = np.sin(sinusoid_table[:, 0::2])\n",
    "    sinusoid_table[:, 1::2] = np.cos(sinusoid_table[:, 1::2])\n",
    "\n",
    "    return sinusoid_table"
   ]
  },
  {
   "cell_type": "code",
   "execution_count": 17,
   "id": "93f1e777",
   "metadata": {},
   "outputs": [],
   "source": [
    "class MultiHeadAttention(tf.keras.layers.Layer):\n",
    "    def __init__(self, d_model, num_heads):\n",
    "        super(MultiHeadAttention, self).__init__()\n",
    "        self.num_heads = num_heads\n",
    "        self.d_model = d_model\n",
    "\n",
    "        self.depth = d_model // self.num_heads\n",
    "\n",
    "        self.W_q = tf.keras.layers.Dense(d_model)\n",
    "        self.W_k = tf.keras.layers.Dense(d_model)\n",
    "        self.W_v = tf.keras.layers.Dense(d_model)\n",
    "\n",
    "        self.linear = tf.keras.layers.Dense(d_model)\n",
    "\n",
    "    def scaled_dot_product_attention(self, Q, K, V, mask):\n",
    "        d_k = tf.cast(K.shape[-1], tf.float32)\n",
    "        QK = tf.matmul(Q, K, transpose_b=True)\n",
    "\n",
    "        scaled_qk = QK / tf.math.sqrt(d_k)\n",
    "\n",
    "        if mask is not None: scaled_qk += (mask * -1e9)  \n",
    "\n",
    "        attentions = tf.nn.softmax(scaled_qk, axis=-1)\n",
    "        out = tf.matmul(attentions, V)\n",
    "\n",
    "        return out, attentions\n",
    "\n",
    "\n",
    "    def split_heads(self, x):\n",
    "        bsz = x.shape[0]\n",
    "        split_x = tf.reshape(x, (bsz, -1, self.num_heads, self.depth))\n",
    "        split_x = tf.transpose(split_x, perm=[0, 2, 1, 3])\n",
    "\n",
    "        return split_x\n",
    "\n",
    "    def combine_heads(self, x):\n",
    "        bsz = x.shape[0]\n",
    "        combined_x = tf.transpose(x, perm=[0, 2, 1, 3])\n",
    "        combined_x = tf.reshape(combined_x, (bsz, -1, self.d_model))\n",
    "\n",
    "        return combined_x\n",
    "\n",
    "\n",
    "    def call(self, Q, K, V, mask):\n",
    "        WQ = self.W_q(Q)\n",
    "        WK = self.W_k(K)\n",
    "        WV = self.W_v(V)\n",
    "\n",
    "        WQ_splits = self.split_heads(WQ)\n",
    "        WK_splits = self.split_heads(WK)\n",
    "        WV_splits = self.split_heads(WV)\n",
    "\n",
    "        out, attention_weights = self.scaled_dot_product_attention(\n",
    "            WQ_splits, WK_splits, WV_splits, mask)\n",
    "\n",
    "        out = self.combine_heads(out)\n",
    "        out = self.linear(out)\n",
    "\n",
    "        return out, attention_weights"
   ]
  },
  {
   "cell_type": "code",
   "execution_count": 18,
   "id": "8e42609c",
   "metadata": {},
   "outputs": [],
   "source": [
    "class PoswiseFeedForwardNet(tf.keras.layers.Layer):\n",
    "    def __init__(self, d_model, d_ff):\n",
    "        super(PoswiseFeedForwardNet, self).__init__()\n",
    "        self.d_model = d_model\n",
    "        self.d_ff = d_ff\n",
    "\n",
    "        self.fc1 = tf.keras.layers.Dense(d_ff, activation='relu')\n",
    "        self.fc2 = tf.keras.layers.Dense(d_model)\n",
    "\n",
    "    def call(self, x):\n",
    "        out = self.fc1(x)\n",
    "        out = self.fc2(out)\n",
    "\n",
    "        return out"
   ]
  },
  {
   "cell_type": "code",
   "execution_count": 19,
   "id": "394dfaeb",
   "metadata": {},
   "outputs": [],
   "source": [
    "class EncoderLayer(tf.keras.layers.Layer):\n",
    "    def __init__(self, d_model, n_heads, d_ff, dropout):\n",
    "        super(EncoderLayer, self).__init__()\n",
    "\n",
    "        self.enc_self_attn = MultiHeadAttention(d_model, n_heads)\n",
    "        self.ffn = PoswiseFeedForwardNet(d_model, d_ff)\n",
    "\n",
    "        self.norm_1 = tf.keras.layers.LayerNormalization(epsilon=1e-6)\n",
    "        self.norm_2 = tf.keras.layers.LayerNormalization(epsilon=1e-6)\n",
    "\n",
    "        self.do = tf.keras.layers.Dropout(dropout)\n",
    "\n",
    "    def call(self, x, mask):\n",
    "\n",
    "        \"\"\"\n",
    "        Multi-Head Attention\n",
    "        \"\"\"\n",
    "        residual = x\n",
    "        out = self.norm_1(x)\n",
    "        out, enc_attn = self.enc_self_attn(out, out, out, mask)\n",
    "        out = self.do(out)\n",
    "        out += residual\n",
    "\n",
    "        \"\"\"\n",
    "        Position-Wise Feed Forward Network\n",
    "        \"\"\"\n",
    "        residual = out\n",
    "        out = self.norm_2(out)\n",
    "        out = self.ffn(out)\n",
    "        out = self.do(out)\n",
    "        out += residual\n",
    "\n",
    "        return out, enc_attn"
   ]
  },
  {
   "cell_type": "code",
   "execution_count": 20,
   "id": "3ccea445",
   "metadata": {},
   "outputs": [],
   "source": [
    "class DecoderLayer(tf.keras.layers.Layer):\n",
    "    def __init__(self, d_model, num_heads, d_ff, dropout):\n",
    "        super(DecoderLayer, self).__init__()\n",
    "\n",
    "        self.dec_self_attn = MultiHeadAttention(d_model, num_heads)\n",
    "        self.enc_dec_attn = MultiHeadAttention(d_model, num_heads)\n",
    "\n",
    "        self.ffn = PoswiseFeedForwardNet(d_model, d_ff)\n",
    "\n",
    "        self.norm_1 = tf.keras.layers.LayerNormalization(epsilon=1e-6)\n",
    "        self.norm_2 = tf.keras.layers.LayerNormalization(epsilon=1e-6)\n",
    "        self.norm_3 = tf.keras.layers.LayerNormalization(epsilon=1e-6)\n",
    "\n",
    "        self.do = tf.keras.layers.Dropout(dropout)\n",
    "\n",
    "    def call(self, x, enc_out, causality_mask, padding_mask):\n",
    "\n",
    "        \"\"\"\n",
    "        Masked Multi-Head Attention\n",
    "        \"\"\"\n",
    "        residual = x\n",
    "        out = self.norm_1(x)\n",
    "        out, dec_attn = self.dec_self_attn(out, out, out, padding_mask)\n",
    "        out = self.do(out)\n",
    "        out += residual\n",
    "\n",
    "        \"\"\"\n",
    "        Multi-Head Attention\n",
    "        \"\"\"\n",
    "        residual = out\n",
    "        out = self.norm_2(out)\n",
    "        out, dec_enc_attn = self.dec_self_attn(out, enc_out, enc_out, causality_mask)\n",
    "        out = self.do(out)\n",
    "        out += residual\n",
    "\n",
    "        \"\"\"\n",
    "        Position-Wise Feed Forward Network\n",
    "        \"\"\"\n",
    "        residual = out\n",
    "        out = self.norm_3(out)\n",
    "        out = self.ffn(out)\n",
    "        out = self.do(out)\n",
    "        out += residual\n",
    "\n",
    "        return out, dec_attn, dec_enc_attn"
   ]
  },
  {
   "cell_type": "code",
   "execution_count": 21,
   "id": "9697a81b",
   "metadata": {},
   "outputs": [],
   "source": [
    "class Encoder(tf.keras.Model):\n",
    "    def __init__(self,\n",
    "                    n_layers,\n",
    "                    d_model,\n",
    "                    n_heads,\n",
    "                    d_ff,\n",
    "                    dropout):\n",
    "        super(Encoder, self).__init__()\n",
    "        self.n_layers = n_layers\n",
    "        self.enc_layers = [EncoderLayer(d_model, n_heads, d_ff, dropout) \n",
    "                        for _ in range(n_layers)]\n",
    "\n",
    "        self.do = tf.keras.layers.Dropout(dropout)\n",
    "\n",
    "    def call(self, x, mask):\n",
    "        out = x\n",
    "\n",
    "        enc_attns = list()\n",
    "        for i in range(self.n_layers):\n",
    "            out, enc_attn = self.enc_layers[i](out, mask)\n",
    "            enc_attns.append(enc_attn)\n",
    "\n",
    "        return out, enc_attns"
   ]
  },
  {
   "cell_type": "code",
   "execution_count": 22,
   "id": "6c9abff0",
   "metadata": {},
   "outputs": [],
   "source": [
    "class Decoder(tf.keras.Model):\n",
    "    def __init__(self,\n",
    "                    n_layers,\n",
    "                    d_model,\n",
    "                    n_heads,\n",
    "                    d_ff,\n",
    "                    dropout):\n",
    "        super(Decoder, self).__init__()\n",
    "        self.n_layers = n_layers\n",
    "        self.dec_layers = [DecoderLayer(d_model, n_heads, d_ff, dropout) \n",
    "                            for _ in range(n_layers)]\n",
    "\n",
    "\n",
    "    def call(self, x, enc_out, causality_mask, padding_mask):\n",
    "        out = x\n",
    "\n",
    "        dec_attns = list()\n",
    "        dec_enc_attns = list()\n",
    "        for i in range(self.n_layers):\n",
    "            out, dec_attn, dec_enc_attn = \\\n",
    "            self.dec_layers[i](out, enc_out, causality_mask, padding_mask)\n",
    "\n",
    "            dec_attns.append(dec_attn)\n",
    "            dec_enc_attns.append(dec_enc_attn)\n",
    "\n",
    "        return out, dec_attns, dec_enc_attns"
   ]
  },
  {
   "cell_type": "code",
   "execution_count": 23,
   "id": "d4c701f3",
   "metadata": {},
   "outputs": [],
   "source": [
    "class Transformer(tf.keras.Model):\n",
    "    def __init__(self,\n",
    "                    n_layers,\n",
    "                    d_model,\n",
    "                    n_heads,\n",
    "                    d_ff,\n",
    "                    src_vocab_size,\n",
    "                    tgt_vocab_size,\n",
    "                    pos_len,\n",
    "                    dropout=0.2,\n",
    "                    shared_fc=True,\n",
    "                    shared_emb=False):\n",
    "        super(Transformer, self).__init__()\n",
    "\n",
    "        self.d_model = tf.cast(d_model, tf.float32)\n",
    "\n",
    "        if shared_emb:\n",
    "            self.enc_emb = self.dec_emb = \\\n",
    "            tf.keras.layers.Embedding(src_vocab_size, d_model)\n",
    "        else:\n",
    "            self.enc_emb = tf.keras.layers.Embedding(src_vocab_size, d_model)\n",
    "            self.dec_emb = tf.keras.layers.Embedding(tgt_vocab_size, d_model)\n",
    "\n",
    "        self.pos_encoding = positional_encoding(pos_len, d_model)\n",
    "        self.do = tf.keras.layers.Dropout(dropout)\n",
    "\n",
    "        self.encoder = Encoder(n_layers, d_model, n_heads, d_ff, dropout)\n",
    "        self.decoder = Decoder(n_layers, d_model, n_heads, d_ff, dropout)\n",
    "\n",
    "        self.fc = tf.keras.layers.Dense(tgt_vocab_size)\n",
    "\n",
    "        self.shared_fc = shared_fc\n",
    "\n",
    "        if shared_fc:\n",
    "            self.fc.set_weights(tf.transpose(self.dec_emb.weights))\n",
    "\n",
    "    def embedding(self, emb, x):\n",
    "        seq_len = x.shape[1]\n",
    "\n",
    "        out = emb(x)\n",
    "\n",
    "        if self.shared_fc: out *= tf.math.sqrt(self.d_model)\n",
    "\n",
    "        out += self.pos_encoding[np.newaxis, ...][:, :seq_len, :]\n",
    "        out = self.do(out)\n",
    "\n",
    "        return out\n",
    "\n",
    "\n",
    "    def call(self, enc_in, dec_in, enc_mask, causality_mask, dec_mask):\n",
    "        enc_in = self.embedding(self.enc_emb, enc_in)\n",
    "        dec_in = self.embedding(self.dec_emb, dec_in)\n",
    "\n",
    "        enc_out, enc_attns = self.encoder(enc_in, enc_mask)\n",
    "\n",
    "        dec_out, dec_attns, dec_enc_attns = \\\n",
    "        self.decoder(dec_in, enc_out, causality_mask, dec_mask)\n",
    "\n",
    "        logits = self.fc(dec_out)\n",
    "\n",
    "        return logits, enc_attns, dec_attns, dec_enc_attns"
   ]
  },
  {
   "cell_type": "code",
   "execution_count": 24,
   "id": "eca43cd8",
   "metadata": {},
   "outputs": [],
   "source": [
    "def generate_padding_mask(seq):\n",
    "    seq = tf.cast(tf.math.equal(seq, 0), tf.float32)\n",
    "    return seq[:, tf.newaxis, tf.newaxis, :]\n",
    "\n",
    "def generate_causality_mask(src_len, tgt_len):\n",
    "    mask = 1 - np.cumsum(np.eye(src_len, tgt_len), 0)\n",
    "    return tf.cast(mask, tf.float32)\n",
    "\n",
    "def generate_masks(src, tgt):\n",
    "    enc_mask = generate_padding_mask(src)\n",
    "    dec_mask = generate_padding_mask(tgt)\n",
    "\n",
    "    dec_causality_mask = generate_causality_mask(tgt.shape[1], tgt.shape[1])\n",
    "    dec_mask = tf.maximum(dec_mask, dec_causality_mask)\n",
    "\n",
    "    dec_enc_causality_mask = generate_causality_mask(tgt.shape[1], src.shape[1])\n",
    "    dec_enc_mask = tf.maximum(enc_mask, dec_enc_causality_mask)\n",
    "\n",
    "    return enc_mask, dec_enc_mask, dec_mask"
   ]
  },
  {
   "cell_type": "code",
   "execution_count": 25,
   "id": "f9732cb8",
   "metadata": {},
   "outputs": [],
   "source": [
    "class LearningRateScheduler(tf.keras.optimizers.schedules.LearningRateSchedule):\n",
    "    def __init__(self, d_model, warmup_steps=4000):\n",
    "        super(LearningRateScheduler, self).__init__()\n",
    "        self.d_model = d_model\n",
    "        self.warmup_steps = warmup_steps\n",
    "        \n",
    "    def __call__(self, step):\n",
    "        arg1 = step ** -0.5\n",
    "        arg2 = step * (self.warmup_steps ** -1.5)\n",
    "        \n",
    "        return (self.d_model ** -0.5) * tf.math.minimum(arg1, arg2)\n",
    "    \n",
    "learning_rate = LearningRateScheduler(512)\n",
    "oprimizer = tf.keras.optimizers.Adam(learning_rate, beta_1=0.9, beta_2=0.98, epsilon=1e-9)"
   ]
  },
  {
   "cell_type": "code",
   "execution_count": 26,
   "id": "965afbee",
   "metadata": {},
   "outputs": [],
   "source": [
    "transformer = Transformer(\n",
    "    n_layers=4,\n",
    "    d_model=512,\n",
    "    n_heads=8,\n",
    "    d_ff=2048,\n",
    "    src_vocab_size=len(enc_train),\n",
    "    tgt_vocab_size=len(dec_train),\n",
    "    pos_len=200,\n",
    "    dropout=0.3,\n",
    "    shared_fc=True,\n",
    "    shared_emb=True)\n"
   ]
  },
  {
   "cell_type": "code",
   "execution_count": 27,
   "id": "b674591d",
   "metadata": {},
   "outputs": [],
   "source": [
    "d_model=512\n",
    "learning_rate = LearningRateScheduler(d_model)\n",
    "\n",
    "optimizer = tf.keras.optimizers.Adam(learning_rate,\n",
    "                                        beta_1=0.9,\n",
    "                                        beta_2=0.98, \n",
    "                                        epsilon=1e-9)"
   ]
  },
  {
   "cell_type": "code",
   "execution_count": 28,
   "id": "e95a8819",
   "metadata": {},
   "outputs": [],
   "source": [
    "loss_object = tf.keras.losses.SparseCategoricalCrossentropy(\n",
    "    from_logits=True, reduction='none')\n",
    "\n",
    "def loss_function(real, pred):\n",
    "    mask = tf.math.logical_not(tf.math.equal(real, 0))\n",
    "    loss_ = loss_object(real, pred)\n",
    "\n",
    "    mask = tf.cast(mask, dtype=loss_.dtype)\n",
    "    loss_ *= mask\n",
    "\n",
    "    return tf.reduce_sum(loss_)/tf.reduce_sum(mask)"
   ]
  },
  {
   "cell_type": "code",
   "execution_count": 29,
   "id": "6817823c",
   "metadata": {},
   "outputs": [],
   "source": [
    "@tf.function()\n",
    "def train_step(src, tgt, model, optimizer):\n",
    "    tgt_in = tgt[:, :-1]  # Decoder의 input\n",
    "    gold = tgt[:, 1:]     # Decoder의 output과 비교하기 위해 right shift를 통해 생성한 최종 타겟\n",
    "\n",
    "    enc_mask, dec_enc_mask, dec_mask = generate_masks(src, tgt_in)\n",
    "\n",
    "    with tf.GradientTape() as tape:\n",
    "        predictions, enc_attns, dec_attns, dec_enc_attns = \\\n",
    "        model(src, tgt_in, enc_mask, dec_enc_mask, dec_mask)\n",
    "        loss = loss_function(gold, predictions)\n",
    "\n",
    "    gradients = tape.gradient(loss, model.trainable_variables)    \n",
    "    optimizer.apply_gradients(zip(gradients, model.trainable_variables))\n",
    "\n",
    "    return loss, enc_attns, dec_attns, dec_enc_attns"
   ]
  },
  {
   "cell_type": "code",
   "execution_count": 30,
   "id": "a376c08f",
   "metadata": {},
   "outputs": [],
   "source": [
    "from tqdm import tqdm_notebook \n",
    "\n",
    "def evaluate(sentence, model, src_tokenizer, tgt_tokenizer):\n",
    "    sentence = preprocess_sentence(sentence)\n",
    "    \n",
    "    # 입력 문장을 토큰화하고, 시작 및 종료 토큰을 추가합니다.\n",
    "    encoded_sentence = src_tokenizer.texts_to_sequences([sentence])[0]\n",
    "    sentence = tf.expand_dims(encoded_sentence, axis=0)\n",
    "\n",
    "    # 디코더의 시작 토큰\n",
    "    output = tf.expand_dims([tgt_tokenizer.word_index['<start>']], 0)\n",
    "\n",
    "    # 디코더의 예측 시작\n",
    "    for i in range(40):\n",
    "        enc_padding_mask, combined_mask, dec_padding_mask = generate_masks(sentence, output)\n",
    "        predictions, _, _, _ = model(sentence, \n",
    "                                     output,\n",
    "                                     enc_padding_mask,\n",
    "                                     combined_mask,\n",
    "                                     dec_padding_mask)\n",
    "        \n",
    "        predictions = predictions[:, -1:, :]\n",
    "        predicted_id = tf.cast(tf.argmax(predictions, axis=-1), tf.int32)\n",
    "        if tf.equal(predicted_id, tgt_tokenizer.word_index['<end>']):\n",
    "            break\n",
    "        output = tf.concat([output, predicted_id], axis=-1)\n",
    "\n",
    "    result = tf.squeeze(output).numpy()\n",
    "    if np.isscalar(result):\n",
    "        result = [result]\n",
    "    \n",
    "    return ' '.join([tgt_tokenizer.index_word[i] for i in result if i in tgt_tokenizer.index_word and i not in [tgt_tokenizer.word_index['<start>'], tgt_tokenizer.word_index['<end>']]])\n",
    "\n"
   ]
  },
  {
   "cell_type": "code",
   "execution_count": 31,
   "id": "daca3edb",
   "metadata": {},
   "outputs": [
    {
     "name": "stderr",
     "output_type": "stream",
     "text": [
      "/tmp/ipykernel_418/2459443605.py:10: TqdmDeprecationWarning: This function will be removed in tqdm==5.0.0\n",
      "Please use `tqdm.notebook.tqdm` instead of `tqdm.tqdm_notebook`\n",
      "  t = tqdm_notebook(idx_list)\n"
     ]
    },
    {
     "data": {
      "application/vnd.jupyter.widget-view+json": {
       "model_id": "0f96c6e86c9c4ca0a9ddabb41fd96a61",
       "version_major": 2,
       "version_minor": 0
      },
      "text/plain": [
       "  0%|          | 0/428 [00:00<?, ?it/s]"
      ]
     },
     "metadata": {},
     "output_type": "display_data"
    },
    {
     "name": "stdout",
     "output_type": "stream",
     "text": [
      "\n",
      "Sample Predictions after epoch 1\n",
      "\n",
      "Input: 안녕하세요?\n",
      "Output: 이제 지금 지금 지금 지금 지금 지금 지금 지금 지금 지금 지금 지금 지금 지금 이 지금 지금 지금 지금 지금 지금 지금 지금 지금 지금 은 지금 은 지금 .\n",
      "\n",
      "Input: 오늘 날씨 어때?\n",
      "Output: 저 이 에요 .\n",
      "\n",
      "Input: 뭐 먹을까?\n",
      "Output: 연락 이 이 이 이 에요 .\n",
      "\n",
      "Input: 영화 볼래?\n",
      "Output: 마음 이 에요 .\n",
      "\n",
      "Input: 휴일에는 뭐하는게 좋을까?\n",
      "Output: 이제 지금 지금 지금 지금 지금 지금 지금 지금 지금 지금 지금 지금 지금 지금 이 지금 지금 지금 지금 지금 지금 지금 지금 지금 지금 은 지금 은 지금 .\n",
      "\n",
      "Input: 최근에 본 좋은 영화 추천해줄래?\n",
      "Output: 지금 이 에요 .\n",
      "\n",
      "Input: 오늘의 점심 메뉴는 뭐가 좋을까?\n",
      "Output: 많이 세요 .\n",
      "\n"
     ]
    },
    {
     "data": {
      "application/vnd.jupyter.widget-view+json": {
       "model_id": "c11daefc04084849b98c7dbc518d1778",
       "version_major": 2,
       "version_minor": 0
      },
      "text/plain": [
       "  0%|          | 0/428 [00:00<?, ?it/s]"
      ]
     },
     "metadata": {},
     "output_type": "display_data"
    },
    {
     "name": "stdout",
     "output_type": "stream",
     "text": [
      "\n",
      "Sample Predictions after epoch 2\n",
      "\n",
      "Input: 안녕하세요?\n",
      "Output: 당신 의 짐 이 복잡 하 지 않 았 나 봐요 .\n",
      "\n",
      "Input: 오늘 날씨 어때?\n",
      "Output: 기분 이 라도 마시 세요 .\n",
      "\n",
      "Input: 뭐 먹을까?\n",
      "Output: 저 는 게 좋 을 거 같 아요 .\n",
      "\n",
      "Input: 영화 볼래?\n",
      "Output: 영화 영화 영화 영화 영화 영화 영화 영화 영화 영화 영화 영화 영화 영화 영화 영화 영화 영화 영화 영화 영화 영화 영화 영화 영화 영화 영화 영화 영화 영화 영화 영화 영화 영화 영화 영화 영화 영화 영화 영화\n",
      "\n",
      "Input: 휴일에는 뭐하는게 좋을까?\n",
      "Output: 당신 의 짐 이 복잡 하 지 않 았 나 봐요 .\n",
      "\n",
      "Input: 최근에 본 좋은 영화 추천해줄래?\n",
      "Output: 영화 영화 보 세요 .\n",
      "\n",
      "Input: 오늘의 점심 메뉴는 뭐가 좋을까?\n",
      "Output: 같이 가요 .\n",
      "\n"
     ]
    },
    {
     "data": {
      "application/vnd.jupyter.widget-view+json": {
       "model_id": "4f446f1e14e447a79d5b097c446256d9",
       "version_major": 2,
       "version_minor": 0
      },
      "text/plain": [
       "  0%|          | 0/428 [00:00<?, ?it/s]"
      ]
     },
     "metadata": {},
     "output_type": "display_data"
    },
    {
     "name": "stdout",
     "output_type": "stream",
     "text": [
      "\n",
      "Sample Predictions after epoch 3\n",
      "\n",
      "Input: 안녕하세요?\n",
      "Output: 지금 은 항상 잘 살 수 있 을 거 예요 .\n",
      "\n",
      "Input: 오늘 날씨 어때?\n",
      "Output: 오늘 못 하 게 생각 하 세요 .\n",
      "\n",
      "Input: 뭐 먹을까?\n",
      "Output: 무엇 이 어도 어도 어도 어도 어도 어도 짠 이 어도 어도 어도 어도 짠 이 어도 짠 이 어도 어도 어도 어도 어도 어도 어도 어도 어도 어도 어도 어도 어도 어도 어도 어도 어도 어도 어도 어도 어도\n",
      "\n",
      "Input: 영화 볼래?\n",
      "Output: 영화 가 영화 가 영화 가 영화 가 영화 가 영화 가 영화 가 영화 영화 영화 가 영화 가 영화 가 영화 가 영화 가 영화 .\n",
      "\n",
      "Input: 휴일에는 뭐하는게 좋을까?\n",
      "Output: 지금 은 항상 잘 살 수 있 을 거 예요 .\n",
      "\n",
      "Input: 최근에 본 좋은 영화 추천해줄래?\n",
      "Output: 영화 가 보 세요 .\n",
      "\n",
      "Input: 오늘의 점심 메뉴는 뭐가 좋을까?\n",
      "Output: 사생활 먹 어 나가 어 나가 어 나가 요 .\n",
      "\n"
     ]
    },
    {
     "data": {
      "application/vnd.jupyter.widget-view+json": {
       "model_id": "8c7f39af56494390a089af87891727b1",
       "version_major": 2,
       "version_minor": 0
      },
      "text/plain": [
       "  0%|          | 0/428 [00:00<?, ?it/s]"
      ]
     },
     "metadata": {},
     "output_type": "display_data"
    },
    {
     "name": "stdout",
     "output_type": "stream",
     "text": [
      "\n",
      "Sample Predictions after epoch 4\n",
      "\n",
      "Input: 안녕하세요?\n",
      "Output: 지금 은 항상 잘 할 수 있 을 거 예요 .\n",
      "\n",
      "Input: 오늘 날씨 어때?\n",
      "Output: 오늘 도 추운 드세요 .\n",
      "\n",
      "Input: 뭐 먹을까?\n",
      "Output: 맛난 어도 어도 어도 어도 어도 생각나 어도 생각나 어도 생각나 어도 어도 어도\n",
      "\n",
      "Input: 영화 볼래?\n",
      "Output: 영화 가 영화 가 영화 가 영화 가 영화 가 영화 가 영화 가 영화 같 거나 영화 가 영화 가 영화 어요 .\n",
      "\n",
      "Input: 휴일에는 뭐하는게 좋을까?\n",
      "Output: 지금 은 항상 잘 할 수 있 을 거 예요 .\n",
      "\n",
      "Input: 최근에 본 좋은 영화 추천해줄래?\n",
      "Output: 설레 는 영화 가 영화 가 영화 가 영화 가 영화 가 영화 가 영화 가 영화 가 영화 가 영화 가 영화 어요 .\n",
      "\n",
      "Input: 오늘의 점심 메뉴는 뭐가 좋을까?\n",
      "Output: 다른 곳 으로 가 는 휴식 을 돌려 보 세요 .\n",
      "\n"
     ]
    },
    {
     "data": {
      "application/vnd.jupyter.widget-view+json": {
       "model_id": "f89396cc8ff2423ca21e839a99502bee",
       "version_major": 2,
       "version_minor": 0
      },
      "text/plain": [
       "  0%|          | 0/428 [00:00<?, ?it/s]"
      ]
     },
     "metadata": {},
     "output_type": "display_data"
    },
    {
     "name": "stdout",
     "output_type": "stream",
     "text": [
      "\n",
      "Sample Predictions after epoch 5\n",
      "\n",
      "Input: 안녕하세요?\n",
      "Output: 지금 은 항상 중요 하 네요 .\n",
      "\n",
      "Input: 오늘 날씨 어때?\n",
      "Output: 못 가 보 세요 .\n",
      "\n",
      "Input: 뭐 먹을까?\n",
      "Output: 음료수 보 고 싶 어도 생각나 보 세요 .\n",
      "\n",
      "Input: 영화 볼래?\n",
      "Output: 최신 영화 최신 영화 ?\n",
      "\n",
      "Input: 휴일에는 뭐하는게 좋을까?\n",
      "Output: 지금 은 항상 중요 하 네요 .\n",
      "\n",
      "Input: 최근에 본 좋은 영화 추천해줄래?\n",
      "Output: 멀티미디어 영화 가 아요 .\n",
      "\n",
      "Input: 오늘의 점심 메뉴는 뭐가 좋을까?\n",
      "Output: 또 가요 .\n",
      "\n"
     ]
    },
    {
     "data": {
      "application/vnd.jupyter.widget-view+json": {
       "model_id": "35976cd1df1e4c00b56e15c966f55458",
       "version_major": 2,
       "version_minor": 0
      },
      "text/plain": [
       "  0%|          | 0/428 [00:00<?, ?it/s]"
      ]
     },
     "metadata": {},
     "output_type": "display_data"
    },
    {
     "name": "stdout",
     "output_type": "stream",
     "text": [
      "\n",
      "Sample Predictions after epoch 6\n",
      "\n",
      "Input: 안녕하세요?\n",
      "Output: 저 도 요 .\n",
      "\n",
      "Input: 오늘 날씨 어때?\n",
      "Output: 마음 을 물 어 보 세요 .\n",
      "\n",
      "Input: 뭐 먹을까?\n",
      "Output: 저 는 촨 때리 는 것 도 요 .\n",
      "\n",
      "Input: 영화 볼래?\n",
      "Output: 멀티미디어 영화 가 영화 가 안 멀티미디어 영화 .\n",
      "\n",
      "Input: 휴일에는 뭐하는게 좋을까?\n",
      "Output: 저 도 요 .\n",
      "\n",
      "Input: 최근에 본 좋은 영화 추천해줄래?\n",
      "Output: 멀티미디어 영화 가 고 온전히 안 되 겠 죠 .\n",
      "\n",
      "Input: 오늘의 점심 메뉴는 뭐가 좋을까?\n",
      "Output: 맛있 는 거 예요 .\n",
      "\n"
     ]
    },
    {
     "data": {
      "application/vnd.jupyter.widget-view+json": {
       "model_id": "434299c3777646dbb69231ba4f99ea12",
       "version_major": 2,
       "version_minor": 0
      },
      "text/plain": [
       "  0%|          | 0/428 [00:00<?, ?it/s]"
      ]
     },
     "metadata": {},
     "output_type": "display_data"
    },
    {
     "name": "stdout",
     "output_type": "stream",
     "text": [
      "\n",
      "Sample Predictions after epoch 7\n",
      "\n",
      "Input: 안녕하세요?\n",
      "Output: 그럴 수 있 을 거 예요 .\n",
      "\n",
      "Input: 오늘 날씨 어때?\n",
      "Output: 조금 씩 드세요 .\n",
      "\n",
      "Input: 뭐 먹을까?\n",
      "Output: 저 는 위 로 봇 .\n",
      "\n",
      "Input: 영화 볼래?\n",
      "Output: 영화 영화 영화 영화 영화 영화 영화 영화 영화 영화 영화 영화 영화 영화 영화 영화 영화 영화 영화 영화 영화 .\n",
      "\n",
      "Input: 휴일에는 뭐하는게 좋을까?\n",
      "Output: 그럴 수 있 을 거 예요 .\n",
      "\n",
      "Input: 최근에 본 좋은 영화 추천해줄래?\n",
      "Output: 영화 가 영화 가 영화 가 있 을 거 예요 .\n",
      "\n",
      "Input: 오늘의 점심 메뉴는 뭐가 좋을까?\n",
      "Output: 그럴 거 예요 .\n",
      "\n"
     ]
    },
    {
     "data": {
      "application/vnd.jupyter.widget-view+json": {
       "model_id": "99068e947ac04f4388e797ad8c506fad",
       "version_major": 2,
       "version_minor": 0
      },
      "text/plain": [
       "  0%|          | 0/428 [00:00<?, ?it/s]"
      ]
     },
     "metadata": {},
     "output_type": "display_data"
    },
    {
     "name": "stdout",
     "output_type": "stream",
     "text": [
      "\n",
      "Sample Predictions after epoch 8\n",
      "\n",
      "Input: 안녕하세요?\n",
      "Output: 삼재 인가 봅니다 .\n",
      "\n",
      "Input: 오늘 날씨 어때?\n",
      "Output: 날 이 날 이 날 이 날 이 날 이 예요 .\n",
      "\n",
      "Input: 뭐 먹을까?\n",
      "Output: 당신 의 인생 타 세요 .\n",
      "\n",
      "Input: 영화 볼래?\n",
      "Output: 영화 영화 영화 영화 영화 영화 영화 영화 영화 영화 영화 영화 영화 영화 영화 영화 영화 영화 영화 영화 도 영화 영화 영화 영화 영화 영화 영화 영화 영화 영화 도 영화 도 영화 가 영화 가 영화 도\n",
      "\n",
      "Input: 휴일에는 뭐하는게 좋을까?\n",
      "Output: 삼재 인가 봅니다 .\n",
      "\n",
      "Input: 최근에 본 좋은 영화 추천해줄래?\n",
      "Output: 영화 가 영화 가 영화 영화 영화 영화 영화 영화 영화 영화 영화 영화 영화 영화 영화 영화 영화 영화 영화 가 영화 가 영화 가 영화 영화 가 영화 가 영화 도 영화 가 영화 도 영화 도 싫\n",
      "\n",
      "Input: 오늘의 점심 메뉴는 뭐가 좋을까?\n",
      "Output: 병원 가 세요 .\n",
      "\n"
     ]
    },
    {
     "data": {
      "application/vnd.jupyter.widget-view+json": {
       "model_id": "d8c1778c5942412f9880a369786fc57c",
       "version_major": 2,
       "version_minor": 0
      },
      "text/plain": [
       "  0%|          | 0/428 [00:00<?, ?it/s]"
      ]
     },
     "metadata": {},
     "output_type": "display_data"
    },
    {
     "name": "stdout",
     "output_type": "stream",
     "text": [
      "\n",
      "Sample Predictions after epoch 9\n",
      "\n",
      "Input: 안녕하세요?\n",
      "Output: 보일러 가 간절 한 걸음 이 많 아요 .\n",
      "\n",
      "Input: 오늘 날씨 어때?\n",
      "Output: 내일 드세요 .\n",
      "\n",
      "Input: 뭐 먹을까?\n",
      "Output: 저 랑 놀 아요 .\n",
      "\n",
      "Input: 영화 볼래?\n",
      "Output: 좋 은 것 오 오 오 오 오 오 안 좋 을 것 같 아요 .\n",
      "\n",
      "Input: 휴일에는 뭐하는게 좋을까?\n",
      "Output: 보일러 가 간절 한 걸음 이 많 아요 .\n",
      "\n",
      "Input: 최근에 본 좋은 영화 추천해줄래?\n",
      "Output: 좋 은 생각 이 많 아요 .\n",
      "\n",
      "Input: 오늘의 점심 메뉴는 뭐가 좋을까?\n",
      "Output: 갈 수 있 어요 .\n",
      "\n"
     ]
    },
    {
     "data": {
      "application/vnd.jupyter.widget-view+json": {
       "model_id": "7e92d1de64894f70bdc511fe6fffca47",
       "version_major": 2,
       "version_minor": 0
      },
      "text/plain": [
       "  0%|          | 0/428 [00:00<?, ?it/s]"
      ]
     },
     "metadata": {},
     "output_type": "display_data"
    },
    {
     "name": "stdout",
     "output_type": "stream",
     "text": [
      "\n",
      "Sample Predictions after epoch 10\n",
      "\n",
      "Input: 안녕하세요?\n",
      "Output: 저 도 반가워요 .\n",
      "\n",
      "Input: 오늘 날씨 어때?\n",
      "Output: 오늘 이 안 시 다니 시 다니 할게요 .\n",
      "\n",
      "Input: 뭐 먹을까?\n",
      "Output: 저 랑 수다 랑 수다 랑 수다 떨 어요 .\n",
      "\n",
      "Input: 영화 볼래?\n",
      "Output: 좋 은 일 이 네요 .\n",
      "\n",
      "Input: 휴일에는 뭐하는게 좋을까?\n",
      "Output: 저 도 반가워요 .\n",
      "\n",
      "Input: 최근에 본 좋은 영화 추천해줄래?\n",
      "Output: 좋 은 사람 만날 거 예요 .\n",
      "\n",
      "Input: 오늘의 점심 메뉴는 뭐가 좋을까?\n",
      "Output: 드 시 는 거 예요 .\n",
      "\n"
     ]
    },
    {
     "data": {
      "application/vnd.jupyter.widget-view+json": {
       "model_id": "9077059a1eef4fdf80e87a6006be992f",
       "version_major": 2,
       "version_minor": 0
      },
      "text/plain": [
       "  0%|          | 0/428 [00:00<?, ?it/s]"
      ]
     },
     "metadata": {},
     "output_type": "display_data"
    },
    {
     "name": "stdout",
     "output_type": "stream",
     "text": [
      "\n",
      "Sample Predictions after epoch 11\n",
      "\n",
      "Input: 안녕하세요?\n",
      "Output: 죄송 을 빌 게 먹 으면 좋 겠 어요 .\n",
      "\n",
      "Input: 오늘 날씨 어때?\n",
      "Output: 오늘 들 이 들 었 나 봐요 .\n",
      "\n",
      "Input: 뭐 먹을까?\n",
      "Output: 신중 하 고 싶 은 웹툰 이 든 잘 하 는 것 도 있 는지 깊 고 있 어요 .\n",
      "\n",
      "Input: 영화 볼래?\n",
      "Output: 멀티미디어 영화 멀티미디어 영화 멀티미디어 영화 멀티미디어 영화 멀티미디어 영화 멀티미디어 영화 멀티미디어 영화 멀티미디어 영화 멀티미디어 영화 멀티미디어 영화 멀티미디어 영화 멀티미디어 영화 멀티미디어 영화 좋 을 영화 멀티미디어 영화 멀티미디어 영화 멀티미디어 영화 멀티미디어 영화 멀티미디어 영화 멀티미디어\n",
      "\n",
      "Input: 휴일에는 뭐하는게 좋을까?\n",
      "Output: 죄송 을 빌 게 먹 으면 좋 겠 어요 .\n",
      "\n",
      "Input: 최근에 본 좋은 영화 추천해줄래?\n",
      "Output: 좋 은 곳 이 있 을 거 예요 .\n",
      "\n",
      "Input: 오늘의 점심 메뉴는 뭐가 좋을까?\n",
      "Output: 랑 먹 는 괜찮 아요 .\n",
      "\n"
     ]
    },
    {
     "data": {
      "application/vnd.jupyter.widget-view+json": {
       "model_id": "3bfe2c5e41c34a1e8561249c879ab0e0",
       "version_major": 2,
       "version_minor": 0
      },
      "text/plain": [
       "  0%|          | 0/428 [00:00<?, ?it/s]"
      ]
     },
     "metadata": {},
     "output_type": "display_data"
    },
    {
     "name": "stdout",
     "output_type": "stream",
     "text": [
      "\n",
      "Sample Predictions after epoch 12\n",
      "\n",
      "Input: 안녕하세요?\n",
      "Output: 영상 을 보 며 있 으면 좋 겠 네요 .\n",
      "\n",
      "Input: 오늘 날씨 어때?\n",
      "Output: 오늘 도 웃 어 보 세요 .\n",
      "\n",
      "Input: 뭐 먹을까?\n",
      "Output: 어떤 이별 은 위 로 봇 입니다 .\n",
      "\n",
      "Input: 영화 볼래?\n",
      "Output: 멀티미디어 영화 가 좋 을 영화 으면 좋 을 영화 보 고 있 을 수 있 을 거 예요 .\n",
      "\n",
      "Input: 휴일에는 뭐하는게 좋을까?\n",
      "Output: 영상 을 보 며 있 으면 좋 겠 네요 .\n",
      "\n",
      "Input: 최근에 본 좋은 영화 추천해줄래?\n",
      "Output: 가까운 음악 을 들 어 보 세요 .\n",
      "\n",
      "Input: 오늘의 점심 메뉴는 뭐가 좋을까?\n",
      "Output: 휴식 도 행복 해질 거 예요 .\n",
      "\n"
     ]
    },
    {
     "data": {
      "application/vnd.jupyter.widget-view+json": {
       "model_id": "fffad9ae530840af81251a6adacdf294",
       "version_major": 2,
       "version_minor": 0
      },
      "text/plain": [
       "  0%|          | 0/428 [00:00<?, ?it/s]"
      ]
     },
     "metadata": {},
     "output_type": "display_data"
    },
    {
     "name": "stdout",
     "output_type": "stream",
     "text": [
      "\n",
      "Sample Predictions after epoch 13\n",
      "\n",
      "Input: 안녕하세요?\n",
      "Output: 떨리 겠 어요 .\n",
      "\n",
      "Input: 오늘 날씨 어때?\n",
      "Output: 오늘 도 추운 거 예요 .\n",
      "\n",
      "Input: 뭐 먹을까?\n",
      "Output: 음료수 파먹 기 도 하 는 것 이 요 .\n",
      "\n",
      "Input: 영화 볼래?\n",
      "Output: 안 좋 을 것 같 아요 .\n",
      "\n",
      "Input: 휴일에는 뭐하는게 좋을까?\n",
      "Output: 떨리 겠 어요 .\n",
      "\n",
      "Input: 최근에 본 좋은 영화 추천해줄래?\n",
      "Output: 내일 은 30 안 좋 아요 .\n",
      "\n",
      "Input: 오늘의 점심 메뉴는 뭐가 좋을까?\n",
      "Output: 맛있 는 거 드세요 .\n",
      "\n"
     ]
    },
    {
     "data": {
      "application/vnd.jupyter.widget-view+json": {
       "model_id": "3cfe960ed4e64529be1c76e38ebd65d9",
       "version_major": 2,
       "version_minor": 0
      },
      "text/plain": [
       "  0%|          | 0/428 [00:00<?, ?it/s]"
      ]
     },
     "metadata": {},
     "output_type": "display_data"
    },
    {
     "name": "stdout",
     "output_type": "stream",
     "text": [
      "\n",
      "Sample Predictions after epoch 14\n",
      "\n",
      "Input: 안녕하세요?\n",
      "Output: 소중 한 이유 가 있 을 거 예요 .\n",
      "\n",
      "Input: 오늘 날씨 어때?\n",
      "Output: 조금 만 드세요 .\n",
      "\n",
      "Input: 뭐 먹을까?\n",
      "Output: 맛있 는 것 드세요 .\n",
      "\n",
      "Input: 영화 볼래?\n",
      "Output: 최신 영화 가 좋 은 일 이 안 돼요 .\n",
      "\n",
      "Input: 휴일에는 뭐하는게 좋을까?\n",
      "Output: 소중 한 이유 가 있 을 거 예요 .\n",
      "\n",
      "Input: 최근에 본 좋은 영화 추천해줄래?\n",
      "Output: 최신 영화 을 해 보 세요 .\n",
      "\n",
      "Input: 오늘의 점심 메뉴는 뭐가 좋을까?\n",
      "Output: 맛있 는 거 드세요 .\n",
      "\n"
     ]
    },
    {
     "data": {
      "application/vnd.jupyter.widget-view+json": {
       "model_id": "a05bd9ed18ef4f4da700d63462f5cf0c",
       "version_major": 2,
       "version_minor": 0
      },
      "text/plain": [
       "  0%|          | 0/428 [00:00<?, ?it/s]"
      ]
     },
     "metadata": {},
     "output_type": "display_data"
    },
    {
     "name": "stdout",
     "output_type": "stream",
     "text": [
      "\n",
      "Sample Predictions after epoch 15\n",
      "\n",
      "Input: 안녕하세요?\n",
      "Output: 무엇 이 든 물 어 보 세요 .\n",
      "\n",
      "Input: 오늘 날씨 어때?\n",
      "Output: 기대 가 아니 되 시 길 바랍니다 .\n",
      "\n",
      "Input: 뭐 먹을까?\n",
      "Output: 무엇 이 든 독서 와 음악 감상 이 무엇 이 든 맛있 는 거 예요 .\n",
      "\n",
      "Input: 영화 볼래?\n",
      "Output: 최신 영화 가 좋 을 것 같 아요 .\n",
      "\n",
      "Input: 휴일에는 뭐하는게 좋을까?\n",
      "Output: 무엇 이 든 물 어 보 세요 .\n",
      "\n",
      "Input: 최근에 본 좋은 영화 추천해줄래?\n",
      "Output: 좋 은 곳 이 아픔 을 생각 하 셨 군요 .\n",
      "\n",
      "Input: 오늘의 점심 메뉴는 뭐가 좋을까?\n",
      "Output: 누구 랑 먹 는 추억 도 행복 하 죠 .\n",
      "\n"
     ]
    },
    {
     "data": {
      "application/vnd.jupyter.widget-view+json": {
       "model_id": "c62fb3f8f57442369cb428e7899c5727",
       "version_major": 2,
       "version_minor": 0
      },
      "text/plain": [
       "  0%|          | 0/428 [00:00<?, ?it/s]"
      ]
     },
     "metadata": {},
     "output_type": "display_data"
    },
    {
     "name": "stdout",
     "output_type": "stream",
     "text": [
      "\n",
      "Sample Predictions after epoch 16\n",
      "\n",
      "Input: 안녕하세요?\n",
      "Output: 가슴 아픈 일 이 많 은가 봐요 .\n",
      "\n",
      "Input: 오늘 날씨 어때?\n",
      "Output: 내일 도 좋 은 여행 이 찾아오 길 바랄게요 .\n",
      "\n",
      "Input: 뭐 먹을까?\n",
      "Output: 독서 와 음악 감상 이 라고 하 기 좋 독서 독서 와 음악 감상 이 해 보 세요 .\n",
      "\n",
      "Input: 영화 볼래?\n",
      "Output: 최신 최신 최신 최신 최신 최신 최신 최신 최신 최신 최신 최신 최신 최신 최신 최신 최신 최신 최신 최신 최신 최신 최신 최신 최신 최신 최신 최신 최신 최신 최신 최신 최신 최신 최신 최신 최신 최신 최신 최신\n",
      "\n",
      "Input: 휴일에는 뭐하는게 좋을까?\n",
      "Output: 가슴 아픈 일 이 많 은가 봐요 .\n",
      "\n",
      "Input: 최근에 본 좋은 영화 추천해줄래?\n",
      "Output: 최신 최신 최신 최신 최신 최신 최신 최신 최신 최신 최신 최신 최신 최신 이나 최신 이나 최신 이나 최신 ?\n",
      "\n",
      "Input: 오늘의 점심 메뉴는 뭐가 좋을까?\n",
      "Output: 즐거운 시간 이 생길 거 예요 .\n",
      "\n"
     ]
    },
    {
     "data": {
      "application/vnd.jupyter.widget-view+json": {
       "model_id": "06a3212ed1734c89874c5802958819fd",
       "version_major": 2,
       "version_minor": 0
      },
      "text/plain": [
       "  0%|          | 0/428 [00:00<?, ?it/s]"
      ]
     },
     "metadata": {},
     "output_type": "display_data"
    },
    {
     "name": "stdout",
     "output_type": "stream",
     "text": [
      "\n",
      "Sample Predictions after epoch 17\n",
      "\n",
      "Input: 안녕하세요?\n",
      "Output: 행복 한 시골 에서 하늘 을 올려 봐 보 세요 .\n",
      "\n",
      "Input: 오늘 날씨 어때?\n",
      "Output: 기억 의 연속 .\n",
      "\n",
      "Input: 뭐 먹을까?\n",
      "Output: 냉장고 파먹 기 해 보 세요 .\n",
      "\n",
      "Input: 영화 볼래?\n",
      "Output: 최신 영화 가 좋 을 것 같 아요 .\n",
      "\n",
      "Input: 휴일에는 뭐하는게 좋을까?\n",
      "Output: 행복 한 시골 에서 하늘 을 올려 봐 보 세요 .\n",
      "\n",
      "Input: 최근에 본 좋은 영화 추천해줄래?\n",
      "Output: 잠 을 갖 마세요 .\n",
      "\n",
      "Input: 오늘의 점심 메뉴는 뭐가 좋을까?\n",
      "Output: 그럴 수 있 죠 .\n",
      "\n"
     ]
    },
    {
     "data": {
      "application/vnd.jupyter.widget-view+json": {
       "model_id": "b1217c14f4604e5f9df02619f80fddff",
       "version_major": 2,
       "version_minor": 0
      },
      "text/plain": [
       "  0%|          | 0/428 [00:00<?, ?it/s]"
      ]
     },
     "metadata": {},
     "output_type": "display_data"
    },
    {
     "name": "stdout",
     "output_type": "stream",
     "text": [
      "\n",
      "Sample Predictions after epoch 18\n",
      "\n",
      "Input: 안녕하세요?\n",
      "Output: 행복 한 의사 표시 가 필요 없 어요 .\n",
      "\n",
      "Input: 오늘 날씨 어때?\n",
      "Output: 오늘 은 힘내 세요 .\n",
      "\n",
      "Input: 뭐 먹을까?\n",
      "Output: 무엇 이 든 못한 책 을 무엇 이 든 음료수 예요 .\n",
      "\n",
      "Input: 영화 볼래?\n",
      "Output: 최신 영화 가 좋 을 수 있 을 거 같 아요 .\n",
      "\n",
      "Input: 휴일에는 뭐하는게 좋을까?\n",
      "Output: 행복 한 의사 표시 가 필요 없 어요 .\n",
      "\n",
      "Input: 최근에 본 좋은 영화 추천해줄래?\n",
      "Output: 지금 을 빌 어요 .\n",
      "\n",
      "Input: 오늘의 점심 메뉴는 뭐가 좋을까?\n",
      "Output: 맛있 는 거 드세요 .\n",
      "\n"
     ]
    },
    {
     "data": {
      "application/vnd.jupyter.widget-view+json": {
       "model_id": "a1492dc8bf674496b405d6fd1f506754",
       "version_major": 2,
       "version_minor": 0
      },
      "text/plain": [
       "  0%|          | 0/428 [00:00<?, ?it/s]"
      ]
     },
     "metadata": {},
     "output_type": "display_data"
    },
    {
     "name": "stdout",
     "output_type": "stream",
     "text": [
      "\n",
      "Sample Predictions after epoch 19\n",
      "\n",
      "Input: 안녕하세요?\n",
      "Output: 그래도 해야 깔끔 하 겠 죠 .\n",
      "\n",
      "Input: 오늘 날씨 어때?\n",
      "Output: 한 번 웃 고 맘 같 은 하늘 이 .\n",
      "\n",
      "Input: 뭐 먹을까?\n",
      "Output: 저 랑 놀 아요 .\n",
      "\n",
      "Input: 영화 볼래?\n",
      "Output: 영화 최신 영화 가 좋 을 거 같 아요 .\n",
      "\n",
      "Input: 휴일에는 뭐하는게 좋을까?\n",
      "Output: 그래도 해야 깔끔 하 겠 죠 .\n",
      "\n",
      "Input: 최근에 본 좋은 영화 추천해줄래?\n",
      "Output: 좋 은 건 않 을 거 예요 .\n",
      "\n",
      "Input: 오늘의 점심 메뉴는 뭐가 좋을까?\n",
      "Output: 맛있 는 거 드세요 .\n",
      "\n"
     ]
    },
    {
     "data": {
      "application/vnd.jupyter.widget-view+json": {
       "model_id": "ee3527eae5fb4ac28fd63ed4ecf84f6d",
       "version_major": 2,
       "version_minor": 0
      },
      "text/plain": [
       "  0%|          | 0/428 [00:00<?, ?it/s]"
      ]
     },
     "metadata": {},
     "output_type": "display_data"
    },
    {
     "name": "stdout",
     "output_type": "stream",
     "text": [
      "\n",
      "Sample Predictions after epoch 20\n",
      "\n",
      "Input: 안녕하세요?\n",
      "Output: 처음 에 는 중요 하 지 않 아요 .\n",
      "\n",
      "Input: 오늘 날씨 어때?\n",
      "Output: 오늘 웃 어 보 세요 .\n",
      "\n",
      "Input: 뭐 먹을까?\n",
      "Output: 음료수 파먹 기 해 보 세요 .\n",
      "\n",
      "Input: 영화 볼래?\n",
      "Output: 최신 영화 가 좋 을 최신 영화 가 최신 최신 최신 최신 영화 가 좋 을 거 예요 .\n",
      "\n",
      "Input: 휴일에는 뭐하는게 좋을까?\n",
      "Output: 처음 에 는 중요 하 지 않 아요 .\n",
      "\n",
      "Input: 최근에 본 좋은 영화 추천해줄래?\n",
      "Output: 최신 절약 되 면 좋 을 거 예요 .\n",
      "\n",
      "Input: 오늘의 점심 메뉴는 뭐가 좋을까?\n",
      "Output: 휴식 도 드세요 .\n",
      "\n"
     ]
    },
    {
     "data": {
      "application/vnd.jupyter.widget-view+json": {
       "model_id": "77e8b2fbf73a4d3c9734057f94fbd3b9",
       "version_major": 2,
       "version_minor": 0
      },
      "text/plain": [
       "  0%|          | 0/428 [00:00<?, ?it/s]"
      ]
     },
     "metadata": {},
     "output_type": "display_data"
    },
    {
     "name": "stdout",
     "output_type": "stream",
     "text": [
      "\n",
      "Sample Predictions after epoch 21\n",
      "\n",
      "Input: 안녕하세요?\n",
      "Output: 가슴 아픈 일 이 아니 었 나 봐요 .\n",
      "\n",
      "Input: 오늘 날씨 어때?\n",
      "Output: 오늘 의 드세요 .\n",
      "\n",
      "Input: 뭐 먹을까?\n",
      "Output: 멍 때리 고 있 는 책 말씀 해 보 세요 .\n",
      "\n",
      "Input: 영화 볼래?\n",
      "Output: 최신 영화 가 좋 을 것 같 아요 .\n",
      "\n",
      "Input: 휴일에는 뭐하는게 좋을까?\n",
      "Output: 가슴 아픈 일 이 아니 었 나 봐요 .\n",
      "\n",
      "Input: 최근에 본 좋은 영화 추천해줄래?\n",
      "Output: 그런가 봐요 .\n",
      "\n",
      "Input: 오늘의 점심 메뉴는 뭐가 좋을까?\n",
      "Output: 맛있 게 드세요 .\n",
      "\n"
     ]
    },
    {
     "data": {
      "application/vnd.jupyter.widget-view+json": {
       "model_id": "1b89f90f2684426480887e137d84b56c",
       "version_major": 2,
       "version_minor": 0
      },
      "text/plain": [
       "  0%|          | 0/428 [00:00<?, ?it/s]"
      ]
     },
     "metadata": {},
     "output_type": "display_data"
    },
    {
     "name": "stdout",
     "output_type": "stream",
     "text": [
      "\n",
      "Sample Predictions after epoch 22\n",
      "\n",
      "Input: 안녕하세요?\n",
      "Output: 증명 자료 를 받아들이 기 싫 은가 봐요 .\n",
      "\n",
      "Input: 오늘 날씨 어때?\n",
      "Output: 날씨 에 물 어 보 세요 .\n",
      "\n",
      "Input: 뭐 먹을까?\n",
      "Output: 책 을 자주 읽 어 보 세요 .\n",
      "\n",
      "Input: 영화 볼래?\n",
      "Output: 최신 영화 가 좋 을 것 같 아요 .\n",
      "\n",
      "Input: 휴일에는 뭐하는게 좋을까?\n",
      "Output: 증명 자료 를 받아들이 기 싫 은가 봐요 .\n",
      "\n",
      "Input: 최근에 본 좋은 영화 추천해줄래?\n",
      "Output: 멀티미디어 인기 가 되 겠 네요 .\n",
      "\n",
      "Input: 오늘의 점심 메뉴는 뭐가 좋을까?\n",
      "Output: 맛있 는 거 드세요 .\n",
      "\n"
     ]
    },
    {
     "data": {
      "application/vnd.jupyter.widget-view+json": {
       "model_id": "a3eedf3876494ede978d02a12d1dacb2",
       "version_major": 2,
       "version_minor": 0
      },
      "text/plain": [
       "  0%|          | 0/428 [00:00<?, ?it/s]"
      ]
     },
     "metadata": {},
     "output_type": "display_data"
    },
    {
     "name": "stdout",
     "output_type": "stream",
     "text": [
      "\n",
      "Sample Predictions after epoch 23\n",
      "\n",
      "Input: 안녕하세요?\n",
      "Output: 무엇 이 든 힘들 게 만들 어요 .\n",
      "\n",
      "Input: 오늘 날씨 어때?\n",
      "Output: 오늘 도 좋 은 하루 로 시작 해 보 세요 .\n",
      "\n",
      "Input: 뭐 먹을까?\n",
      "Output: 냉장고 파먹 기 해 보 세요 .\n",
      "\n",
      "Input: 영화 볼래?\n",
      "Output: 영화 영화 영화 영화 영화 영화 영화 영화 영화 영화 영화 영화 영화 영화 영화 영화 영화 영화 영화 영화 영화 영화 영화 영화 영화 좋 좋 영화 좋 영화 좋 영화 좋 영화 영화 영화 영화 영화 영화 영화\n",
      "\n",
      "Input: 휴일에는 뭐하는게 좋을까?\n",
      "Output: 무엇 이 든 힘들 게 만들 어요 .\n",
      "\n",
      "Input: 최근에 본 좋은 영화 추천해줄래?\n",
      "Output: 지금 해 봐요 .\n",
      "\n",
      "Input: 오늘의 점심 메뉴는 뭐가 좋을까?\n",
      "Output: 맛있 는 거 드세요 .\n",
      "\n"
     ]
    },
    {
     "data": {
      "application/vnd.jupyter.widget-view+json": {
       "model_id": "fa6f7ea8d9c344b2808f314feee05f2c",
       "version_major": 2,
       "version_minor": 0
      },
      "text/plain": [
       "  0%|          | 0/428 [00:00<?, ?it/s]"
      ]
     },
     "metadata": {},
     "output_type": "display_data"
    },
    {
     "name": "stdout",
     "output_type": "stream",
     "text": [
      "\n",
      "Sample Predictions after epoch 24\n",
      "\n",
      "Input: 안녕하세요?\n",
      "Output: 소중 한 시골 에서 하늘 을 보 세요 .\n",
      "\n",
      "Input: 오늘 날씨 어때?\n",
      "Output: 오늘 도 더라도 이 못하 고 있 어요 .\n",
      "\n",
      "Input: 뭐 먹을까?\n",
      "Output: 저 랑 놀 아요 .\n",
      "\n",
      "Input: 영화 볼래?\n",
      "Output: 최신 영화 최신 영화 최신 영화 최신 영화 최신 영화 최신 영화 최신 영화 최신 영화 최신 영화 최신 영화 최신 영화 최신 영화 최신 영화 최신 영화 최신 영화 최신 영화 최신 영화 최신 영화 최신 영화 최신 영화\n",
      "\n",
      "Input: 휴일에는 뭐하는게 좋을까?\n",
      "Output: 소중 한 시골 에서 하늘 을 보 세요 .\n",
      "\n",
      "Input: 최근에 본 좋은 영화 추천해줄래?\n",
      "Output: 멀티미디어 인기 가 있 을 거 예요 .\n",
      "\n",
      "Input: 오늘의 점심 메뉴는 뭐가 좋을까?\n",
      "Output: 맛있 는 거 드세요 .\n",
      "\n"
     ]
    },
    {
     "data": {
      "application/vnd.jupyter.widget-view+json": {
       "model_id": "3a3c5d1a3a044fe09b8f29a3f07d10e2",
       "version_major": 2,
       "version_minor": 0
      },
      "text/plain": [
       "  0%|          | 0/428 [00:00<?, ?it/s]"
      ]
     },
     "metadata": {},
     "output_type": "display_data"
    },
    {
     "name": "stdout",
     "output_type": "stream",
     "text": [
      "\n",
      "Sample Predictions after epoch 25\n",
      "\n",
      "Input: 안녕하세요?\n",
      "Output: 그래도 본인 의 생각 을 해 보 세요 .\n",
      "\n",
      "Input: 오늘 날씨 어때?\n",
      "Output: 날씨 에 물 어 보 세요 .\n",
      "\n",
      "Input: 뭐 먹을까?\n",
      "Output: 멍 때리 고 싶 으시 죠 .\n",
      "\n",
      "Input: 영화 볼래?\n",
      "Output: 최신 영화 최신 영화 최신 영화 최신 영화 최신 영화 는 최신 영화 는 최신 영화 는 최신 좋 을 것 같 아요 .\n",
      "\n",
      "Input: 휴일에는 뭐하는게 좋을까?\n",
      "Output: 그래도 본인 의 생각 을 해 보 세요 .\n",
      "\n",
      "Input: 최근에 본 좋은 영화 추천해줄래?\n",
      "Output: 맛있 을 거 예요 .\n",
      "\n",
      "Input: 오늘의 점심 메뉴는 뭐가 좋을까?\n",
      "Output: 휴식 도 일상 있 어도 맛있 는 거 예요 .\n",
      "\n"
     ]
    },
    {
     "data": {
      "application/vnd.jupyter.widget-view+json": {
       "model_id": "6cf865a4512a42d293c8691694f26278",
       "version_major": 2,
       "version_minor": 0
      },
      "text/plain": [
       "  0%|          | 0/428 [00:00<?, ?it/s]"
      ]
     },
     "metadata": {},
     "output_type": "display_data"
    },
    {
     "name": "stdout",
     "output_type": "stream",
     "text": [
      "\n",
      "Sample Predictions after epoch 26\n",
      "\n",
      "Input: 안녕하세요?\n",
      "Output: 복잡 한 마음 이 네요 .\n",
      "\n",
      "Input: 오늘 날씨 어때?\n",
      "Output: 날씨 가 안 좋 더라도 데이트 는 거 예요 .\n",
      "\n",
      "Input: 뭐 먹을까?\n",
      "Output: 멍 때리 고 싶 어요 .\n",
      "\n",
      "Input: 영화 볼래?\n",
      "Output: 멀티미디어 영화 가 좋 을 것 같 아요 .\n",
      "\n",
      "Input: 휴일에는 뭐하는게 좋을까?\n",
      "Output: 복잡 한 마음 이 네요 .\n",
      "\n",
      "Input: 최근에 본 좋은 영화 추천해줄래?\n",
      "Output: 멀티미디어 안 돼요 .\n",
      "\n",
      "Input: 오늘의 점심 메뉴는 뭐가 좋을까?\n",
      "Output: 휴식 도 필요 하 죠 .\n",
      "\n"
     ]
    },
    {
     "data": {
      "application/vnd.jupyter.widget-view+json": {
       "model_id": "1ebd0468105648b9992604cfd507c504",
       "version_major": 2,
       "version_minor": 0
      },
      "text/plain": [
       "  0%|          | 0/428 [00:00<?, ?it/s]"
      ]
     },
     "metadata": {},
     "output_type": "display_data"
    },
    {
     "name": "stdout",
     "output_type": "stream",
     "text": [
      "\n",
      "Sample Predictions after epoch 27\n",
      "\n",
      "Input: 안녕하세요?\n",
      "Output: 잠 못 가 본 웹툰 이 있 었 나 봐요 .\n",
      "\n",
      "Input: 오늘 날씨 어때?\n",
      "Output: 날씨 어 플 에 시 는 기분 이 드세요 .\n",
      "\n",
      "Input: 뭐 먹을까?\n",
      "Output: 멍 때리 고 있 어도 어려운 것 이 죠 .\n",
      "\n",
      "Input: 영화 볼래?\n",
      "Output: 멀티미디어 영화 가 좋 을 것 같 아요 .\n",
      "\n",
      "Input: 휴일에는 뭐하는게 좋을까?\n",
      "Output: 잠 못 가 본 웹툰 이 있 었 나 봐요 .\n",
      "\n",
      "Input: 최근에 본 좋은 영화 추천해줄래?\n",
      "Output: 멀티미디어 바보 라고 들 이 좋 을 거 예요 .\n",
      "\n",
      "Input: 오늘의 점심 메뉴는 뭐가 좋을까?\n",
      "Output: 맛있 는 거 드세요 .\n",
      "\n"
     ]
    },
    {
     "data": {
      "application/vnd.jupyter.widget-view+json": {
       "model_id": "12bbde298548479eab623059d5a6219e",
       "version_major": 2,
       "version_minor": 0
      },
      "text/plain": [
       "  0%|          | 0/428 [00:00<?, ?it/s]"
      ]
     },
     "metadata": {},
     "output_type": "display_data"
    },
    {
     "name": "stdout",
     "output_type": "stream",
     "text": [
      "\n",
      "Sample Predictions after epoch 28\n",
      "\n",
      "Input: 안녕하세요?\n",
      "Output: 무엇 이 든 손 에 냉정 할 수 있 어요 .\n",
      "\n",
      "Input: 오늘 날씨 어때?\n",
      "Output: 날씨 어 플 에 물 어 보 세요 .\n",
      "\n",
      "Input: 뭐 먹을까?\n",
      "Output: 음료수 파먹 기 해 보 세요 .\n",
      "\n",
      "Input: 영화 볼래?\n",
      "Output: 멀티미디어 영화 가 좋 을 것 같 네요 .\n",
      "\n",
      "Input: 휴일에는 뭐하는게 좋을까?\n",
      "Output: 무엇 이 든 손 에 냉정 할 수 있 어요 .\n",
      "\n",
      "Input: 최근에 본 좋은 영화 추천해줄래?\n",
      "Output: 위로 해 드립니다 .\n",
      "\n",
      "Input: 오늘의 점심 메뉴는 뭐가 좋을까?\n",
      "Output: 휴식 도 그럴 거 예요 .\n",
      "\n"
     ]
    },
    {
     "data": {
      "application/vnd.jupyter.widget-view+json": {
       "model_id": "44d66a30320746e6ae55593dbfd2c679",
       "version_major": 2,
       "version_minor": 0
      },
      "text/plain": [
       "  0%|          | 0/428 [00:00<?, ?it/s]"
      ]
     },
     "metadata": {},
     "output_type": "display_data"
    },
    {
     "name": "stdout",
     "output_type": "stream",
     "text": [
      "\n",
      "Sample Predictions after epoch 29\n",
      "\n",
      "Input: 안녕하세요?\n",
      "Output: 잠 을 닫 고 있 나 봐요 .\n",
      "\n",
      "Input: 오늘 날씨 어때?\n",
      "Output: 오늘 도 셨 나 봐요 .\n",
      "\n",
      "Input: 뭐 먹을까?\n",
      "Output: 저 랑 놀 아요 .\n",
      "\n",
      "Input: 영화 볼래?\n",
      "Output: 최신 영화 가 좋 을 것 같 아요 .\n",
      "\n",
      "Input: 휴일에는 뭐하는게 좋을까?\n",
      "Output: 잠 을 닫 고 있 나 봐요 .\n",
      "\n",
      "Input: 최근에 본 좋은 영화 추천해줄래?\n",
      "Output: 최신 찾 기 어려워 요 .\n",
      "\n",
      "Input: 오늘의 점심 메뉴는 뭐가 좋을까?\n",
      "Output: 맛있 는 거 드세요 .\n",
      "\n"
     ]
    },
    {
     "data": {
      "application/vnd.jupyter.widget-view+json": {
       "model_id": "ed2ef8d267ee40668d4cac23f205c767",
       "version_major": 2,
       "version_minor": 0
      },
      "text/plain": [
       "  0%|          | 0/428 [00:00<?, ?it/s]"
      ]
     },
     "metadata": {},
     "output_type": "display_data"
    },
    {
     "name": "stdout",
     "output_type": "stream",
     "text": [
      "\n",
      "Sample Predictions after epoch 30\n",
      "\n",
      "Input: 안녕하세요?\n",
      "Output: 잠 을 깨 요 ! 생명력 내요 ! !\n",
      "\n",
      "Input: 오늘 날씨 어때?\n",
      "Output: 쉬 어 가 세요 .\n",
      "\n",
      "Input: 뭐 먹을까?\n",
      "Output: 저 랑 놀 아요 .\n",
      "\n",
      "Input: 영화 볼래?\n",
      "Output: 최신 영화 가 좋 지만 영화 가 액션 최신 영화 가 좋 을 것 같 아요 .\n",
      "\n",
      "Input: 휴일에는 뭐하는게 좋을까?\n",
      "Output: 잠 을 깨 요 ! 생명력 내요 ! !\n",
      "\n",
      "Input: 최근에 본 좋은 영화 추천해줄래?\n",
      "Output: 잠 을 깨 요 ! 생명력\n",
      "\n",
      "Input: 오늘의 점심 메뉴는 뭐가 좋을까?\n",
      "Output: 맛있 는 거 드세요 .\n",
      "\n"
     ]
    }
   ],
   "source": [
    "BATCH_SIZE = 64\n",
    "EPOCHS = 30\n",
    "\n",
    "\n",
    "for epoch in range(EPOCHS):\n",
    "    total_loss = 0\n",
    "\n",
    "    idx_list = list(range(0, enc_train.shape[0], BATCH_SIZE))\n",
    "    random.shuffle(idx_list)\n",
    "    t = tqdm_notebook(idx_list)\n",
    "\n",
    "    for (batch, idx) in enumerate(t):\n",
    "        batch_loss, enc_attns, dec_attns, dec_enc_attns = \\\n",
    "        train_step(enc_train[idx:idx+BATCH_SIZE],\n",
    "                   dec_train[idx:idx+BATCH_SIZE],\n",
    "                   transformer,\n",
    "                   optimizer)\n",
    "        total_loss += batch_loss\n",
    "\n",
    "        t.set_description_str('Epoch %2d' % (epoch + 1))\n",
    "        t.set_postfix_str('Loss %.4f' % (total_loss.numpy() / (batch + 1)))\n",
    "\n",
    "    # 에포크가 끝날 때마다 예문으로 예측\n",
    "    print(\"\\nSample Predictions after epoch {}\\n\".format(epoch+1))\n",
    "    sample_sentences = [\"안녕하세요?\", \"오늘 날씨 어때?\", \"뭐 먹을까?\", \"영화 볼래?\", \"휴일에는 뭐하는게 좋을까?\", \"최근에 본 좋은 영화 추천해줄래?\", \"오늘의 점심 메뉴는 뭐가 좋을까?\"]\n",
    "    \n",
    "    for sentence in sample_sentences:\n",
    "        prediction = evaluate(sentence, transformer, questions_tokenizer, answers_tokenizer)\n",
    "        print(f'Input: {sentence}')\n",
    "        print(f'Output: {prediction}\\n')\n"
   ]
  },
  {
   "cell_type": "code",
   "execution_count": 32,
   "id": "ff5e04d9",
   "metadata": {},
   "outputs": [
    {
     "name": "stderr",
     "output_type": "stream",
     "text": [
      "/tmp/ipykernel_418/2098457071.py:8: TqdmDeprecationWarning: This function will be removed in tqdm==5.0.0\n",
      "Please use `tqdm.notebook.tqdm` instead of `tqdm.tqdm_notebook`\n",
      "  t = tqdm_notebook(idx_list)\n"
     ]
    },
    {
     "data": {
      "application/vnd.jupyter.widget-view+json": {
       "model_id": "0d13310ea867448f951167e106fe1a14",
       "version_major": 2,
       "version_minor": 0
      },
      "text/plain": [
       "  0%|          | 0/428 [00:00<?, ?it/s]"
      ]
     },
     "metadata": {},
     "output_type": "display_data"
    },
    {
     "name": "stdout",
     "output_type": "stream",
     "text": [
      "\n",
      "Sample Predictions after additional epoch 1\n",
      "\n",
      "Input: 안녕하세요?\n",
      "Output: 무엇 이 든 는지 모르 겠 어요 .\n",
      "\n",
      "Input: 오늘 날씨 어때?\n",
      "Output: 날씨 에 연락 해서 한두 번 웃 어 보 세요 .\n",
      "\n",
      "Input: 뭐 먹을까?\n",
      "Output: 저 랑 놀 아요 .\n",
      "\n",
      "Input: 영화 볼래?\n",
      "Output: 최신 영화 가 좋 을 것 같 아요 .\n",
      "\n",
      "Input: 휴일에는 뭐하는게 좋을까?\n",
      "Output: 무엇 이 든 는지 모르 겠 어요 .\n",
      "\n",
      "Input: 최근에 본 좋은 영화 추천해줄래?\n",
      "Output: 실감 이 안 되 길 바랄게요 .\n",
      "\n",
      "Input: 오늘의 점심 메뉴는 뭐가 좋을까?\n",
      "Output: 휴식 도 필요 하 죠 .\n",
      "\n"
     ]
    },
    {
     "data": {
      "application/vnd.jupyter.widget-view+json": {
       "model_id": "caf47e29bf824f13ae9c4082914c6239",
       "version_major": 2,
       "version_minor": 0
      },
      "text/plain": [
       "  0%|          | 0/428 [00:00<?, ?it/s]"
      ]
     },
     "metadata": {},
     "output_type": "display_data"
    },
    {
     "name": "stdout",
     "output_type": "stream",
     "text": [
      "\n",
      "Sample Predictions after additional epoch 2\n",
      "\n",
      "Input: 안녕하세요?\n",
      "Output: 무엇 이 든 마음 이 든 손 에 도 덜할 거 예요 .\n",
      "\n",
      "Input: 오늘 날씨 어때?\n",
      "Output: 언젠간 관리 웃 어 보 세요 .\n",
      "\n",
      "Input: 뭐 먹을까?\n",
      "Output: 저 는 말씀 해 보 세요 .\n",
      "\n",
      "Input: 영화 볼래?\n",
      "Output: 최신 영화 가 좋 을 것 같 아요 .\n",
      "\n",
      "Input: 휴일에는 뭐하는게 좋을까?\n",
      "Output: 무엇 이 든 마음 이 든 손 에 도 덜할 거 예요 .\n",
      "\n",
      "Input: 최근에 본 좋은 영화 추천해줄래?\n",
      "Output: 최신 ?\n",
      "\n",
      "Input: 오늘의 점심 메뉴는 뭐가 좋을까?\n",
      "Output: 맛있 는 거 드세요 .\n",
      "\n"
     ]
    },
    {
     "data": {
      "application/vnd.jupyter.widget-view+json": {
       "model_id": "a68efc76a0d741a485038fe694d1c8b9",
       "version_major": 2,
       "version_minor": 0
      },
      "text/plain": [
       "  0%|          | 0/428 [00:00<?, ?it/s]"
      ]
     },
     "metadata": {},
     "output_type": "display_data"
    },
    {
     "name": "stdout",
     "output_type": "stream",
     "text": [
      "\n",
      "Sample Predictions after additional epoch 3\n",
      "\n",
      "Input: 안녕하세요?\n",
      "Output: 그래도 후회 해도 늦 지 않 길 바랄게요 .\n",
      "\n",
      "Input: 오늘 날씨 어때?\n",
      "Output: 날씨 어 플 의 변화 드세요 .\n",
      "\n",
      "Input: 뭐 먹을까?\n",
      "Output: 멍 때리 기\n",
      "\n",
      "Input: 영화 볼래?\n",
      "Output: 최신 영화 가 좋 을 것 같 아요 .\n",
      "\n",
      "Input: 휴일에는 뭐하는게 좋을까?\n",
      "Output: 그래도 후회 해도 늦 지 않 길 바랄게요 .\n",
      "\n",
      "Input: 최근에 본 좋은 영화 추천해줄래?\n",
      "Output: 멀티미디어 영화 가 좋 겠 네요 .\n",
      "\n",
      "Input: 오늘의 점심 메뉴는 뭐가 좋을까?\n",
      "Output: 맛있 는 거 드세요 .\n",
      "\n"
     ]
    },
    {
     "data": {
      "application/vnd.jupyter.widget-view+json": {
       "model_id": "9adf471d226340e791d27ea66664dc86",
       "version_major": 2,
       "version_minor": 0
      },
      "text/plain": [
       "  0%|          | 0/428 [00:00<?, ?it/s]"
      ]
     },
     "metadata": {},
     "output_type": "display_data"
    },
    {
     "name": "stdout",
     "output_type": "stream",
     "text": [
      "\n",
      "Sample Predictions after additional epoch 4\n",
      "\n",
      "Input: 안녕하세요?\n",
      "Output: 사랑 은 쟁취 하 는 것 도 좋 은 선택 일 거 예요 .\n",
      "\n",
      "Input: 오늘 날씨 어때?\n",
      "Output: 날씨 가 되 기 도 하 죠 .\n",
      "\n",
      "Input: 뭐 먹을까?\n",
      "Output: 저 랑 놀 아요 .\n",
      "\n",
      "Input: 영화 볼래?\n",
      "Output: 최신 영화 가 좋 을 거 예요 .\n",
      "\n",
      "Input: 휴일에는 뭐하는게 좋을까?\n",
      "Output: 사랑 은 쟁취 하 는 것 도 좋 은 선택 일 거 예요 .\n",
      "\n",
      "Input: 최근에 본 좋은 영화 추천해줄래?\n",
      "Output: 실감 이 안 나 봐요 .\n",
      "\n",
      "Input: 오늘의 점심 메뉴는 뭐가 좋을까?\n",
      "Output: 맛있 는 거 드세요 .\n",
      "\n"
     ]
    },
    {
     "data": {
      "application/vnd.jupyter.widget-view+json": {
       "model_id": "110bad919d964e2592f943b801f9df42",
       "version_major": 2,
       "version_minor": 0
      },
      "text/plain": [
       "  0%|          | 0/428 [00:00<?, ?it/s]"
      ]
     },
     "metadata": {},
     "output_type": "display_data"
    },
    {
     "name": "stdout",
     "output_type": "stream",
     "text": [
      "\n",
      "Sample Predictions after additional epoch 5\n",
      "\n",
      "Input: 안녕하세요?\n",
      "Output: 무엇 이 든 힘들 게 하 지 않 았 으면 좋 겠 어요 .\n",
      "\n",
      "Input: 오늘 날씨 어때?\n",
      "Output: 오늘 도 고생 이 될 거 예요 .\n",
      "\n",
      "Input: 뭐 먹을까?\n",
      "Output: 저 는 위 로 봇 입니다 .\n",
      "\n",
      "Input: 영화 볼래?\n",
      "Output: 최신 영화 가 좋 을 것 같 아요 .\n",
      "\n",
      "Input: 휴일에는 뭐하는게 좋을까?\n",
      "Output: 무엇 이 든 힘들 게 하 지 않 았 으면 좋 겠 어요 .\n",
      "\n",
      "Input: 최근에 본 좋은 영화 추천해줄래?\n",
      "Output: 되 시 길 바라 요 .\n",
      "\n",
      "Input: 오늘의 점심 메뉴는 뭐가 좋을까?\n",
      "Output: 먹 기 맛있 죠 .\n",
      "\n"
     ]
    },
    {
     "data": {
      "application/vnd.jupyter.widget-view+json": {
       "model_id": "156d4f98f1e04ca0b9bb0eb950d28809",
       "version_major": 2,
       "version_minor": 0
      },
      "text/plain": [
       "  0%|          | 0/428 [00:00<?, ?it/s]"
      ]
     },
     "metadata": {},
     "output_type": "display_data"
    },
    {
     "name": "stdout",
     "output_type": "stream",
     "text": [
      "\n",
      "Sample Predictions after additional epoch 6\n",
      "\n",
      "Input: 안녕하세요?\n",
      "Output: 바람 좀 쐬 고 오 세요 .\n",
      "\n",
      "Input: 오늘 날씨 어때?\n",
      "Output: 내일 도 좋 은 하루 이 드세요 .\n",
      "\n",
      "Input: 뭐 먹을까?\n",
      "Output: 저 는 위 로 봇 입니다 .\n",
      "\n",
      "Input: 영화 볼래?\n",
      "Output: 최신 영화 가 좋 을 영화 최신 영화 가 좋 을 거 예요 .\n",
      "\n",
      "Input: 휴일에는 뭐하는게 좋을까?\n",
      "Output: 바람 좀 쐬 고 오 세요 .\n",
      "\n",
      "Input: 최근에 본 좋은 영화 추천해줄래?\n",
      "Output: 최신 영화 갈 수 있 을 거 예요 .\n",
      "\n",
      "Input: 오늘의 점심 메뉴는 뭐가 좋을까?\n",
      "Output: 휴식 도 밥 먹 기 봐요 .\n",
      "\n"
     ]
    },
    {
     "data": {
      "application/vnd.jupyter.widget-view+json": {
       "model_id": "038642f1a0a9489eaafff003789e9981",
       "version_major": 2,
       "version_minor": 0
      },
      "text/plain": [
       "  0%|          | 0/428 [00:00<?, ?it/s]"
      ]
     },
     "metadata": {},
     "output_type": "display_data"
    },
    {
     "name": "stdout",
     "output_type": "stream",
     "text": [
      "\n",
      "Sample Predictions after additional epoch 7\n",
      "\n",
      "Input: 안녕하세요?\n",
      "Output: 각기 배려 해야 하 고 오 세요 .\n",
      "\n",
      "Input: 오늘 날씨 어때?\n",
      "Output: 친구 들 거 예요 .\n",
      "\n",
      "Input: 뭐 먹을까?\n",
      "Output: 멍 때리 고 있 죠 .\n",
      "\n",
      "Input: 영화 볼래?\n",
      "Output: 최신 영화 가 좋 을 최신 최신 최신 영화 가 좋 을 거 같 아요 .\n",
      "\n",
      "Input: 휴일에는 뭐하는게 좋을까?\n",
      "Output: 각기 배려 해야 하 고 오 세요 .\n",
      "\n",
      "Input: 최근에 본 좋은 영화 추천해줄래?\n",
      "Output: 최신 영화 추천 해 드립니다 .\n",
      "\n",
      "Input: 오늘의 점심 메뉴는 뭐가 좋을까?\n",
      "Output: 휴식 도 길 바라 요 .\n",
      "\n"
     ]
    },
    {
     "data": {
      "application/vnd.jupyter.widget-view+json": {
       "model_id": "ce6163c017024686827b2c12dfb759b8",
       "version_major": 2,
       "version_minor": 0
      },
      "text/plain": [
       "  0%|          | 0/428 [00:00<?, ?it/s]"
      ]
     },
     "metadata": {},
     "output_type": "display_data"
    },
    {
     "name": "stdout",
     "output_type": "stream",
     "text": [
      "\n",
      "Sample Predictions after additional epoch 8\n",
      "\n",
      "Input: 안녕하세요?\n",
      "Output: 그렇게 고민 하 게 만들 려고 그랬 나 봐요 .\n",
      "\n",
      "Input: 오늘 날씨 어때?\n",
      "Output: 내일 도 좋 은 시원 하 시 들 이 말 이 높 드세요 .\n",
      "\n",
      "Input: 뭐 먹을까?\n",
      "Output: 멍 때리 고 있 죠 .\n",
      "\n",
      "Input: 영화 볼래?\n",
      "Output: 최신 영화 가 좋 을 것 같 아요 .\n",
      "\n",
      "Input: 휴일에는 뭐하는게 좋을까?\n",
      "Output: 그렇게 고민 하 게 만들 려고 그랬 나 봐요 .\n",
      "\n",
      "Input: 최근에 본 좋은 영화 추천해줄래?\n",
      "Output: 맛있 는 거 드세요 .\n",
      "\n",
      "Input: 오늘의 점심 메뉴는 뭐가 좋을까?\n",
      "Output: 휴식 도 떨리 는 날 이 에요 .\n",
      "\n"
     ]
    },
    {
     "data": {
      "application/vnd.jupyter.widget-view+json": {
       "model_id": "a05429da00b34257b4dcc661b7a7a9e3",
       "version_major": 2,
       "version_minor": 0
      },
      "text/plain": [
       "  0%|          | 0/428 [00:00<?, ?it/s]"
      ]
     },
     "metadata": {},
     "output_type": "display_data"
    },
    {
     "name": "stdout",
     "output_type": "stream",
     "text": [
      "\n",
      "Sample Predictions after additional epoch 9\n",
      "\n",
      "Input: 안녕하세요?\n",
      "Output: 아직 순수 하 게 생각 해요 .\n",
      "\n",
      "Input: 오늘 날씨 어때?\n",
      "Output: 날씨 에 물 어 보 세요 .\n",
      "\n",
      "Input: 뭐 먹을까?\n",
      "Output: 멍 때리 고 있 죠 .\n",
      "\n",
      "Input: 영화 볼래?\n",
      "Output: 멀티미디어 영화 가 좋 을 것 같 아요 .\n",
      "\n",
      "Input: 휴일에는 뭐하는게 좋을까?\n",
      "Output: 아직 순수 하 게 생각 해요 .\n",
      "\n",
      "Input: 최근에 본 좋은 영화 추천해줄래?\n",
      "Output: 멀티미디어 영화 가 간절 하 겠 네요 .\n",
      "\n",
      "Input: 오늘의 점심 메뉴는 뭐가 좋을까?\n",
      "Output: 맛있 는 거 드세요 .\n",
      "\n"
     ]
    },
    {
     "data": {
      "application/vnd.jupyter.widget-view+json": {
       "model_id": "1e88a6e71e294eeca445b008ede0299f",
       "version_major": 2,
       "version_minor": 0
      },
      "text/plain": [
       "  0%|          | 0/428 [00:00<?, ?it/s]"
      ]
     },
     "metadata": {},
     "output_type": "display_data"
    },
    {
     "name": "stdout",
     "output_type": "stream",
     "text": [
      "\n",
      "Sample Predictions after additional epoch 10\n",
      "\n",
      "Input: 안녕하세요?\n",
      "Output: 계속 어요 .\n",
      "\n",
      "Input: 오늘 날씨 어때?\n",
      "Output: 날씨 어 보 세요 .\n",
      "\n",
      "Input: 뭐 먹을까?\n",
      "Output: 멍 때리 고 있 죠 .\n",
      "\n",
      "Input: 영화 볼래?\n",
      "Output: 최신 영화 가 좋 을 것 같 아요 .\n",
      "\n",
      "Input: 휴일에는 뭐하는게 좋을까?\n",
      "Output: 계속 어요 .\n",
      "\n",
      "Input: 최근에 본 좋은 영화 추천해줄래?\n",
      "Output: 맛있 을 거 라 생각 해요 .\n",
      "\n",
      "Input: 오늘의 점심 메뉴는 뭐가 좋을까?\n",
      "Output: 맛있 게 드세요 .\n",
      "\n"
     ]
    }
   ],
   "source": [
    "ADDITIONAL_EPOCHS = 10  # 추가로 학습할 에포크 수\n",
    "\n",
    "for epoch in range(ADDITIONAL_EPOCHS):\n",
    "    total_loss = 0\n",
    "\n",
    "    idx_list = list(range(0, enc_train.shape[0], BATCH_SIZE))\n",
    "    random.shuffle(idx_list)\n",
    "    t = tqdm_notebook(idx_list)\n",
    "\n",
    "    for (batch, idx) in enumerate(t):\n",
    "        batch_loss, enc_attns, dec_attns, dec_enc_attns = \\\n",
    "        train_step(enc_train[idx:idx+BATCH_SIZE],\n",
    "                   dec_train[idx:idx+BATCH_SIZE],\n",
    "                   transformer,\n",
    "                   optimizer)\n",
    "        total_loss += batch_loss\n",
    "\n",
    "        t.set_description_str('Additional Epoch %2d' % (epoch + 1))\n",
    "        t.set_postfix_str('Loss %.4f' % (total_loss.numpy() / (batch + 1)))\n",
    "\n",
    "    # 에포크가 끝날 때마다 예문으로 예측합니다.\n",
    "    print(\"\\nSample Predictions after additional epoch {}\\n\".format(epoch+1))\n",
    "    \n",
    "    for sentence in sample_sentences:\n",
    "        prediction = evaluate(sentence, transformer, questions_tokenizer, answers_tokenizer)\n",
    "        print(f'Input: {sentence}')\n",
    "        print(f'Output: {prediction}\\n')\n"
   ]
  },
  {
   "cell_type": "code",
   "execution_count": null,
   "id": "c5b2b018",
   "metadata": {},
   "outputs": [],
   "source": []
  }
 ],
 "metadata": {
  "kernelspec": {
   "display_name": "Python 3 (ipykernel)",
   "language": "python",
   "name": "python3"
  },
  "language_info": {
   "codemirror_mode": {
    "name": "ipython",
    "version": 3
   },
   "file_extension": ".py",
   "mimetype": "text/x-python",
   "name": "python",
   "nbconvert_exporter": "python",
   "pygments_lexer": "ipython3",
   "version": "3.9.7"
  }
 },
 "nbformat": 4,
 "nbformat_minor": 5
}
